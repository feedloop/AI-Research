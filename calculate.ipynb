{
 "cells": [
  {
   "cell_type": "code",
   "execution_count": 1,
   "metadata": {},
   "outputs": [],
   "source": [
    "import pandas as pd\n",
    "import os"
   ]
  },
  {
   "cell_type": "code",
   "execution_count": 2,
   "metadata": {},
   "outputs": [],
   "source": [
    "def calculate_overall_scores(df):\n",
    "    context_recall = round(df['Context Recall'].mean(),2)\n",
    "    context_precision = round(df['Context Precision'].mean(),2)\n",
    "    answer_relevance = round(df['Answer Relevance'].mean(),2)\n",
    "    answer_correctness = round(df['Answer Correctness'].mean(),2)\n",
    "    # overall_score = round(df['overall_score'].mean(),2)\n",
    "\n",
    "    return context_recall, context_precision, answer_relevance, answer_correctness"
   ]
  },
  {
   "cell_type": "code",
   "execution_count": 5,
   "metadata": {},
   "outputs": [],
   "source": [
    "prompt_method = 'GPT35_ParentChild'"
   ]
  },
  {
   "cell_type": "code",
   "execution_count": 6,
   "metadata": {},
   "outputs": [
    {
     "name": "stderr",
     "output_type": "stream",
     "text": [
      "/var/folders/g5/4y__qg7s551c736fg0gdgcdc0000gn/T/ipykernel_1347/1821503068.py:23: FutureWarning: The behavior of DataFrame concatenation with empty or all-NA entries is deprecated. In a future version, this will no longer exclude empty or all-NA columns when determining the result dtypes. To retain the old behavior, exclude the relevant entries before the concat operation.\n",
      "  result_df = pd.concat([result_df, cur_result_df], ignore_index=True)\n"
     ]
    }
   ],
   "source": [
    "# Step 1: Load and process each CSV file\n",
    "csv_folder_path = f'./new_eval_res/{prompt_method}/csv/'  # Replace with the actual path to your CSV files\n",
    "result_df = pd.DataFrame(columns=['doc_name', 'Context Recall', 'Context Precision', 'Answer Relevance', 'Answer Correctness'])\n",
    "\n",
    "for csv_file_name in os.listdir(csv_folder_path):\n",
    "    if csv_file_name.endswith('.csv'):\n",
    "        # Step 2: Load CSV file\n",
    "        csv_path = os.path.join(csv_folder_path, csv_file_name)\n",
    "        df = pd.read_csv(csv_path)\n",
    "\n",
    "        # Step 3: Calculate overall scores\n",
    "        # df['overall_score'] = (df['similarity'] + df['correctness'] + df['relevancy']) / 3\n",
    "        context_recall, context_precision, answer_relevance, answer_correctness = calculate_overall_scores(df)\n",
    "\n",
    "        # Step 4: Append the result as a new row in the summary DataFrame\n",
    "        cur_result_df = pd.DataFrame({\n",
    "            'doc_name': [csv_file_name],\n",
    "            'Context Recall': [context_recall],\n",
    "            'Context Precision': [context_precision],\n",
    "            'Answer Relevance': [answer_relevance],\n",
    "            'Answer Correctness': [answer_correctness]\n",
    "        })\n",
    "        result_df = pd.concat([result_df, cur_result_df], ignore_index=True)\n",
    "\n",
    "\n",
    "result_df.to_csv(f'./new_eval_res/avg/{prompt_method}.csv')"
   ]
  },
  {
   "cell_type": "code",
   "execution_count": 11,
   "metadata": {},
   "outputs": [
    {
     "name": "stderr",
     "output_type": "stream",
     "text": [
      "/var/folders/g5/4y__qg7s551c736fg0gdgcdc0000gn/T/ipykernel_4541/309734872.py:18: FutureWarning: The behavior of DataFrame concatenation with empty or all-NA entries is deprecated. In a future version, this will no longer exclude empty or all-NA columns when determining the result dtypes. To retain the old behavior, exclude the relevant entries before the concat operation.\n",
      "  final_df = pd.concat([final_df, pd.DataFrame({\n"
     ]
    }
   ],
   "source": [
    "# Step 1: Load and process each CSV file\n",
    "csv_folder_path = './eval_result/avg'  # Replace with the actual path to your CSV files\n",
    "final_df = pd.DataFrame(columns=['method', 'mean_similarity', 'mean_correctness', 'mean_relevancy', 'mean_overall_score'])\n",
    "\n",
    "for csv_file_name in os.listdir(csv_folder_path):\n",
    "    if csv_file_name.endswith('.csv'):\n",
    "        # Step 2: Load CSV file\n",
    "        csv_path = os.path.join(csv_folder_path, csv_file_name)\n",
    "        df = pd.read_csv(csv_path)\n",
    "\n",
    "        # Step 3: Calculate means\n",
    "        mean_similarity = round(df['avg_similarity'].mean(),2)\n",
    "        mean_correctness = round(df['avg_correctness'].mean(),2)\n",
    "        mean_relevancy = round(df['avg_relevancy'].mean(),2)\n",
    "        mean_overall_score = round(df['avg_score'].mean(),2)\n",
    "\n",
    "        # Step 4: Append the result as a new row in the final DataFrame\n",
    "        final_df = pd.concat([final_df, pd.DataFrame({\n",
    "            'method': [csv_file_name],\n",
    "            'mean_similarity': [mean_similarity],\n",
    "            'mean_correctness': [mean_correctness],\n",
    "            'mean_relevancy': [mean_relevancy],\n",
    "            'mean_overall_score': [mean_overall_score]\n",
    "        })], ignore_index=True)\n",
    "\n",
    "# Display the final DataFrame\n",
    "final_df.to_csv('./eval_result/avg/final_20240110.csv')"
   ]
  }
 ],
 "metadata": {
  "kernelspec": {
   "display_name": "Python 3",
   "language": "python",
   "name": "python3"
  },
  "language_info": {
   "codemirror_mode": {
    "name": "ipython",
    "version": 3
   },
   "file_extension": ".py",
   "mimetype": "text/x-python",
   "name": "python",
   "nbconvert_exporter": "python",
   "pygments_lexer": "ipython3",
   "version": "3.11.7"
  }
 },
 "nbformat": 4,
 "nbformat_minor": 2
}
