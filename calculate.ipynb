{
 "cells": [
  {
   "cell_type": "code",
   "execution_count": 3,
   "metadata": {},
   "outputs": [],
   "source": [
    "import pandas as pd\n",
    "import os"
   ]
  },
  {
   "cell_type": "code",
   "execution_count": 10,
   "metadata": {},
   "outputs": [],
   "source": [
    "def calculate_overall_scores(df):\n",
    "    overall_similarity = round(df['similarity'].mean(),2)\n",
    "    overall_correctness = round(df['correctness'].mean(),2)\n",
    "    overall_relevancy = round(df['relevancy'].mean(),2)\n",
    "    overall_score = round(df['overall_score'].mean(),2)\n",
    "\n",
    "    return overall_similarity, overall_correctness, overall_relevancy, overall_score"
   ]
  },
  {
   "cell_type": "code",
   "execution_count": 29,
   "metadata": {},
   "outputs": [],
   "source": [
    "prompt_method = 'summary_fact'"
   ]
  },
  {
   "cell_type": "code",
   "execution_count": 30,
   "metadata": {},
   "outputs": [
    {
     "name": "stderr",
     "output_type": "stream",
     "text": [
      "/var/folders/g5/4y__qg7s551c736fg0gdgcdc0000gn/T/ipykernel_4108/2703055670.py:23: FutureWarning: The behavior of DataFrame concatenation with empty or all-NA entries is deprecated. In a future version, this will no longer exclude empty or all-NA columns when determining the result dtypes. To retain the old behavior, exclude the relevant entries before the concat operation.\n",
      "  result_df = pd.concat([result_df, cur_result_df], ignore_index=True)\n"
     ]
    }
   ],
   "source": [
    "# Step 1: Load and process each CSV file\n",
    "csv_folder_path = f'./eval_result/{prompt_method}'  # Replace with the actual path to your CSV files\n",
    "result_df = pd.DataFrame(columns=['doc_name', 'avg_similarity', 'avg_correctness', 'avg_relevancy', 'avg_score'])\n",
    "\n",
    "for csv_file_name in os.listdir(csv_folder_path):\n",
    "    if csv_file_name.endswith('.csv'):\n",
    "        # Step 2: Load CSV file\n",
    "        csv_path = os.path.join(csv_folder_path, csv_file_name)\n",
    "        df = pd.read_csv(csv_path)\n",
    "\n",
    "        # Step 3: Calculate overall scores\n",
    "        df['overall_score'] = (df['similarity'] + df['correctness'] + df['relevancy']) / 3\n",
    "        avg_similarity, avg_correctness, avg_relevancy, avg_score = calculate_overall_scores(df)\n",
    "\n",
    "        # Step 4: Append the result as a new row in the summary DataFrame\n",
    "        cur_result_df = pd.DataFrame({\n",
    "            'doc_name': [csv_file_name],\n",
    "            'avg_similarity': [avg_similarity],\n",
    "            'avg_correctness': [avg_correctness],\n",
    "            'avg_relevancy': [avg_relevancy],\n",
    "            'avg_score': [avg_score]\n",
    "        })\n",
    "        result_df = pd.concat([result_df, cur_result_df], ignore_index=True)\n",
    "\n",
    "\n",
    "result_df.to_csv(f'./eval_result/avg/{prompt_method}.csv')"
   ]
  },
  {
   "cell_type": "code",
   "execution_count": 33,
   "metadata": {},
   "outputs": [
    {
     "name": "stderr",
     "output_type": "stream",
     "text": [
      "/var/folders/g5/4y__qg7s551c736fg0gdgcdc0000gn/T/ipykernel_4108/2983014814.py:18: FutureWarning: The behavior of DataFrame concatenation with empty or all-NA entries is deprecated. In a future version, this will no longer exclude empty or all-NA columns when determining the result dtypes. To retain the old behavior, exclude the relevant entries before the concat operation.\n",
      "  final_df = pd.concat([final_df, pd.DataFrame({\n"
     ]
    }
   ],
   "source": [
    "# Step 1: Load and process each CSV file\n",
    "csv_folder_path = './eval_result/avg'  # Replace with the actual path to your CSV files\n",
    "final_df = pd.DataFrame(columns=['method', 'mean_similarity', 'mean_correctness', 'mean_relevancy', 'mean_overall_score'])\n",
    "\n",
    "for csv_file_name in os.listdir(csv_folder_path):\n",
    "    if csv_file_name.endswith('.csv'):\n",
    "        # Step 2: Load CSV file\n",
    "        csv_path = os.path.join(csv_folder_path, csv_file_name)\n",
    "        df = pd.read_csv(csv_path)\n",
    "\n",
    "        # Step 3: Calculate means\n",
    "        mean_similarity = round(df['avg_similarity'].mean(),2)\n",
    "        mean_correctness = round(df['avg_correctness'].mean(),2)\n",
    "        mean_relevancy = round(df['avg_relevancy'].mean(),2)\n",
    "        mean_overall_score = round(df['avg_score'].mean(),2)\n",
    "\n",
    "        # Step 4: Append the result as a new row in the final DataFrame\n",
    "        final_df = pd.concat([final_df, pd.DataFrame({\n",
    "            'method': [csv_file_name],\n",
    "            'mean_similarity': [mean_similarity],\n",
    "            'mean_correctness': [mean_correctness],\n",
    "            'mean_relevancy': [mean_relevancy],\n",
    "            'mean_overall_score': [mean_overall_score]\n",
    "        })], ignore_index=True)\n",
    "\n",
    "# Display the final DataFrame\n",
    "final_df.to_csv('./eval_result/avg/final_result.csv')"
   ]
  }
 ],
 "metadata": {
  "kernelspec": {
   "display_name": "Python 3",
   "language": "python",
   "name": "python3"
  },
  "language_info": {
   "codemirror_mode": {
    "name": "ipython",
    "version": 3
   },
   "file_extension": ".py",
   "mimetype": "text/x-python",
   "name": "python",
   "nbconvert_exporter": "python",
   "pygments_lexer": "ipython3",
   "version": "3.11.7"
  }
 },
 "nbformat": 4,
 "nbformat_minor": 2
}
