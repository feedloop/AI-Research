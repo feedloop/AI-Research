{
 "cells": [
  {
   "cell_type": "code",
   "execution_count": 1,
   "metadata": {},
   "outputs": [],
   "source": [
    "import os\n",
    "import psycopg2\n",
    "\n",
    "from dotenv import load_dotenv\n",
    "\n",
    "from pgvector.psycopg2 import register_vector\n",
    "\n",
    "from utils import api, db, prompt, prompting\n",
    "\n",
    "load_dotenv()\n",
    "\n",
    "conn = psycopg2.connect(os.getenv(\"POSTGRES_CONFIG\"))\n",
    "register_vector(conn)\n",
    "cursor = conn.cursor()"
   ]
  },
  {
   "cell_type": "code",
   "execution_count": 2,
   "metadata": {},
   "outputs": [
    {
     "name": "stdout",
     "output_type": "stream",
     "text": [
      "9283f7c0-da94-45da-84a6-cd8b9df07dcb\n"
     ]
    }
   ],
   "source": [
    "resource_id = db.get_resource_id(cursor, \"Test BPK - Fact new\")\n",
    "print(resource_id)"
   ]
  },
  {
   "cell_type": "code",
   "execution_count": 3,
   "metadata": {},
   "outputs": [],
   "source": [
    "query = \"Di bidang apakah Anggota 3 bertugas?\"\n",
    "resource_ids = [resource_id]\n",
    "knowledges = db.get_retrieved_knowledge(cursor, query, resource_ids, 10)\n",
    "retrieved = [k[1] for k in knowledges]"
   ]
  },
  {
   "cell_type": "code",
   "execution_count": 9,
   "metadata": {},
   "outputs": [
    {
     "name": "stdout",
     "output_type": "stream",
     "text": [
      "[BOT]\n",
      "--- SYSTEM INFO:\n",
      "Today's Time: Friday, 05 January 2024 06:18AM\n",
      "--- BOT INSTRUCTION\n",
      "\n",
      "--- USER INFO:\n",
      "{\"name\":\"John\",\"email\":\"john@feedloop.ai\"}\n",
      "\n",
      "--- KNOWLEDGE:\n",
      "1. Test BPK - Fact new.pdf\n",
      "Doc URL: https://platform-staging-api.feedloop.ai/download/603f9138-2723-4b28-bc56-c32190521e64/Test BPK - Fact new.pdf\n",
      "Context 1: Anggota IV BPK RI bertanggung jawab terhadap kementerian yang terkait dengan energi dan sumber daya alam.\n",
      "Facts from Context 1:\n",
      "- Anggota IV BPK RI memiliki obyek tugas pada kementerian yang terkait bidang energi dan sumber daya alam.\n",
      "Context 2: Anggota III BPK RI bertanggung jawab terhadap kementerian yang terkait dengan Lembaga Tinggi Negara dan kesejahteraan sosial.\n",
      "Facts from Context 2:\n",
      "- Anggota III BPK RI memiliki obyek tugas pada kementerian yang terkait bidang Lembaga Tinggi Negara dan kesejahteraan sosial.\n",
      "Context 3: Anggota V BPK RI bertanggung jawab terhadap kementerian yang terkait dengan Dalam Negeri, Keagamaan, dan Pemerintah Daerah.\n",
      "Facts from Context 3:\n",
      "- Anggota V BPK RI memiliki obyek tugas pada kementerian yang terkait bidang Dalam Negeri dan Keagamaan serta Pemerintah Daerah.\n",
      "Context 4: Identitas Wakil Ketua BPK\n",
      "Facts from Context 4:\n",
      "- Wakil Ketua BPK saat ini adalah Dr. Agus Joko Pramono, M.Acc., Ak., CA., CSFA., CPA., CFrA., QGIA., CGCAE.\n",
      "Context 5: Anggota VI BPK RI bertanggung jawab terhadap kementerian yang terkait dengan Pendidikan, Kesehatan, dan Pemerintah Daerah.\n",
      "Facts from Context 5:\n",
      "- Anggota VI BPK RI memiliki obyek tugas pada kementerian yang terkait bidang Pendidikan, Kesehatan, Pemerintah Daerah.\n",
      "Context 6: Obyek tugas Anggota II BPK\n",
      "Facts from Context 6:\n",
      "- Anggota II memiliki obyek tugas pada kementerian yang terkait bidang Ekonomi, Keuangan, Industri, dan Perdagangan.\n",
      "\n",
      "--- CONTEXT SCHEMA:\n",
      "type context ={\n",
      "}\n",
      "--- PRIOR USER CONTEXT:\n",
      "{}\n",
      "--- CONVERSATION STYLE:\n",
      "\"language\": \"indonesia\"\n",
      "\n",
      "--- PRIOR CONVERSATION:\n",
      "prior conversation summary: \n",
      "user: \n",
      "assistance:\n",
      "--- USER MESSAGE:\n",
      "Di bidang apakah Anggota 3 bertugas?\n",
      "\n",
      "---\n",
      "ANSWER PROPERLY WITH FOLLOWING JSON FORMAT!:\n",
      "{\n",
      "  \"response\": {text: <RESPONSE THE USER MESSAGE HERE USING THE LANGUAGE OF THE USER, Please generate a response that is easy to read by adding a newline (\n",
      "\n",
      ") after every sentence>, ref: <IF THE RESPONSE USING KNOWLEDGE, write <knowledge no>, if no then null>}[] <Array of object>,\n",
      "  \"references\": {\n",
      "      \"<knowledge no>\": {\n",
      "      \"name\": <document name>,\n",
      "      \"url\": <document url>\n",
      "    }\n",
      "  } -> only fill reference if your response based on KNOWLEDGE section otherwise empty!,\n",
      "  \"contextOps\": <array of JSON Patch operations (RFC 6902): based on user message and previous conversation and properties types, please update context object and consider following properties to update: none. DO NOT UPDATE ANY PROPERTIES NOT IN THE SCHEMA!>,\n",
      "  \"replySuggestions\": <given bot response, suggest max 3 possible reply for user to choose from, type: string[]>\n",
      "}\n",
      "ANSWER ONLY AS JSON WITH ABOVE DEFINED FORMAT!\n"
     ]
    }
   ],
   "source": [
    "chat_prompt = prompt.get_chat_prompt(query, retrieved, memory_max_tokens=500, config=\"context\")\n",
    "print(chat_prompt)"
   ]
  },
  {
   "cell_type": "code",
   "execution_count": 5,
   "metadata": {},
   "outputs": [],
   "source": [
    "answer = api.get_completions_gpt4([\n",
    "        {\n",
    "        \"role\": \"user\",\n",
    "        \"content\": chat_prompt,\n",
    "        }\n",
    "    ], temp=0)"
   ]
  },
  {
   "cell_type": "code",
   "execution_count": null,
   "metadata": {},
   "outputs": [],
   "source": [
    "response = answer.choices[0].message.content\n",
    "print(response)"
   ]
  }
 ],
 "metadata": {
  "kernelspec": {
   "display_name": ".venv",
   "language": "python",
   "name": "python3"
  },
  "language_info": {
   "codemirror_mode": {
    "name": "ipython",
    "version": 3
   },
   "file_extension": ".py",
   "mimetype": "text/x-python",
   "name": "python",
   "nbconvert_exporter": "python",
   "pygments_lexer": "ipython3",
   "version": "3.11.7"
  }
 },
 "nbformat": 4,
 "nbformat_minor": 2
}
