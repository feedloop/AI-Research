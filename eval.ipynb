{
 "cells": [
  {
   "cell_type": "code",
   "execution_count": 1,
   "metadata": {},
   "outputs": [],
   "source": [
    "import os\n",
    "import psycopg2\n",
    "import pandas as pd\n",
    "import json, ast\n",
    "\n",
    "from importlib import reload\n",
    "\n",
    "from dotenv import load_dotenv\n",
    "\n",
    "from pgvector.psycopg2 import register_vector\n",
    "\n",
    "from utils import api, db, prompt, prompting\n",
    "\n",
    "load_dotenv()\n",
    "\n",
    "conn = psycopg2.connect(os.getenv(\"POSTGRES_CONFIG\"))\n",
    "register_vector(conn)\n",
    "cursor = conn.cursor()"
   ]
  },
  {
   "cell_type": "code",
   "execution_count": 2,
   "metadata": {},
   "outputs": [
    {
     "data": {
      "text/plain": [
       "<module 'utils.prompting' from '/Volumes/Personal/Work/Feedloop/fact_ext/from_github/AI-Research/utils/prompting.py'>"
      ]
     },
     "execution_count": 2,
     "metadata": {},
     "output_type": "execute_result"
    }
   ],
   "source": [
    "reload(prompt)\n",
    "reload(api)\n",
    "reload(db)\n",
    "reload(prompting)"
   ]
  },
  {
   "cell_type": "markdown",
   "metadata": {},
   "source": [
    "# Trial"
   ]
  },
  {
   "cell_type": "code",
   "execution_count": 56,
   "metadata": {},
   "outputs": [],
   "source": [
    "df = pd.read_csv('./test_set/BPK.csv')"
   ]
  },
  {
   "cell_type": "code",
   "execution_count": null,
   "metadata": {},
   "outputs": [],
   "source": [
    "for index, row in df.iterrows():\n",
    "    question = row['question']\n",
    "    expected_answer = row['ground_truth']"
   ]
  },
  {
   "cell_type": "code",
   "execution_count": 57,
   "metadata": {},
   "outputs": [],
   "source": [
    "pdf_path = \"./pdfs/Test BPK - summary_fact.pdf\""
   ]
  },
  {
   "cell_type": "code",
   "execution_count": 58,
   "metadata": {},
   "outputs": [
    {
     "name": "stdout",
     "output_type": "stream",
     "text": [
      "27682ca8-2a2c-4580-a776-e17dd2843a45\n"
     ]
    }
   ],
   "source": [
    "resource_id = db.get_resource_id(cursor, \"Test BPK - summary_fact\")\n",
    "print(resource_id)"
   ]
  },
  {
   "cell_type": "code",
   "execution_count": 82,
   "metadata": {},
   "outputs": [],
   "source": [
    "query = df['question'][2]\n",
    "resource_ids = [resource_id]\n",
    "knowledges = db.get_retrieved_knowledge(cursor, query, resource_ids, 10)\n",
    "retrieved = [k[1] for k in knowledges]"
   ]
  },
  {
   "cell_type": "code",
   "execution_count": 83,
   "metadata": {},
   "outputs": [
    {
     "name": "stdout",
     "output_type": "stream",
     "text": [
      "[BOT]\n",
      "--- SYSTEM INFO:\n",
      "Today's Time: Friday, 05 January 2024 07:53AM\n",
      "--- BOT INSTRUCTION\n",
      "\n",
      "--- USER INFO:\n",
      "{\"name\":\"John\",\"email\":\"john@feedloop.ai\"}\n",
      "\n",
      "--- KNOWLEDGE:\n",
      "1. Test BPK - summary_fact.pdf\n",
      "Doc URL: None603f9138-2723-4b28-bc56-c32190521e64/Test BPK - summary_fact.pdf\n",
      "Context 1: Badan Pemeriksa Keuangan Republik Indonesia (BPK RI) memiliki tugas dan wewenang yang dibagi antara Ketua, Wakil Ketua, dan Anggota BPK. Tugas dan wewenang Ketua BPK meliputi pemeriksaan pengelolaan keuangan negara, kelembagaan BPK, hubungan kelembagaan dalam dan luar negeri, serta pembinaan tugas beberapa direktorat dan badan. Wakil Ketua BPK bertanggung jawab atas proses Majelis Tuntutan Perbendaharaan dan memberikan pengarahan pemeriksaan investigatif. Sedangkan Anggota BPK bertugas melakukan pemeriksaan pengelolaan keuangan negara.\n",
      "Facts from Context 1:\n",
      "- B. Tugas dan Wewenang Pimpinan Badan Pemeriksa Keuangan Republik Indonesia (BPK RI) saat ini adalah sebagai berikut:\n",
      "- b. Tugas dan wewenang Wakil Ketua BPK:\n",
      "  i. Melaksanakan pemeriksaan pengelolaan dan tanggung jawab keuangan negara secara umum bersama dengan Ketua;\n",
      "  ii. Melaksanakan proses Majelis Tuntutan Perbendaharaan;\n",
      "  iii. Melaksanakan pembinaan tugas Sekretariat Jenderal, Direktorat Utama Perencanaan, Evaluasi, dan Pengembangan Pemeriksaan Keuangan Negara, Direktorat Utama Pembinaan dan Pengembangan Hukum Pemeriksaan Keuangan \n",
      "Negara, Inspektorat Utama, dan Badan Pendidikan dan Pelatihan Pemeriksaan Keuangan Negara bersama dengan Ketua;\n",
      "  iv. Memberikan pengarahan pemeriksaan investigatif.\n",
      "- a. Tugas dan Wewenang Ketua BPK:\n",
      "  i. Melaksanakan pemeriksaan pengelolaan dan tanggung jawab keuangan negara secara umum bersama dengan Wakil Ketua;\n",
      "  ii. Melaksanakan tugas dan wewenang yang berkaitan dengan kelembagaan BPK;\n",
      "  iii. Melaksanakan hubungan kelembagaan dalam negeri dan luar negeri;\n",
      "  iv. Melaksanakan pembinaan tugas Sekretariat Jenderal, Direktorat Utama Perencanaan, Evaluasi, dan Pengembangan Pemeriksaan Keuangan Negara, Direktorat Utama Pembinaan dan Pengembangan Hukum Pemeriksaan Keuangan \n",
      "Negara, Inspektorat Utama, dan Badan Pendidikan dan Pelatihan Pemeriksaan Keuangan Negara bersama dengan Wakil Ketua; dan \n",
      "  v. Memberikan pengarahan pemeriksaan investigatif.\n",
      "\n",
      "--- CONTEXT SCHEMA:\n",
      "type context ={\n",
      "}\n",
      "--- PRIOR USER CONTEXT:\n",
      "{}\n",
      "--- CONVERSATION STYLE:\n",
      "\"language\": \"indonesia\"\n",
      "\n",
      "--- PRIOR CONVERSATION:\n",
      "prior conversation summary: \n",
      "user: \n",
      "assistance:\n",
      "--- USER MESSAGE:\n",
      "Siapa Wakil Ketua BPK RI saat ini dan apa tugas serta wewenangnya dalam pemeriksaan keuangan negara?\n",
      "\n",
      "---\n",
      "ANSWER PROPERLY WITH FOLLOWING JSON FORMAT!:\n",
      "{\n",
      "  \"response\": {text: <RESPONSE THE USER MESSAGE HERE USING THE LANGUAGE OF THE USER, Please generate a response that is easy to read by adding a newline (\n",
      "\n",
      ") after every sentence>, ref: <IF THE RESPONSE USING KNOWLEDGE, write <knowledge no>, if no then null>}[] <Array of object>,\n",
      "  \"references\": {\n",
      "      \"<knowledge no>\": {\n",
      "      \"name\": <document name>,\n",
      "      \"url\": <document url>\n",
      "    }\n",
      "  } -> only fill reference if your response based on KNOWLEDGE section otherwise empty!,\n",
      "  \"contextOps\": <array of JSON Patch operations (RFC 6902): based on user message and previous conversation and properties types, please update context object and consider following properties to update: none. DO NOT UPDATE ANY PROPERTIES NOT IN THE SCHEMA!>,\n",
      "  \"replySuggestions\": <given bot response, suggest max 3 possible reply for user to choose from, type: string[]>\n",
      "}\n",
      "ANSWER ONLY AS JSON WITH ABOVE DEFINED FORMAT!\n"
     ]
    }
   ],
   "source": [
    "chat_prompt = prompt.get_chat_prompt(query, retrieved, memory_max_tokens=500, config=\"context\")\n",
    "print(chat_prompt)"
   ]
  },
  {
   "cell_type": "code",
   "execution_count": 84,
   "metadata": {},
   "outputs": [],
   "source": [
    "completion = api.get_completions_gpt4([\n",
    "        {\n",
    "        \"role\": \"user\",\n",
    "        \"content\": chat_prompt,\n",
    "        }\n",
    "    ], temp=0)"
   ]
  },
  {
   "cell_type": "code",
   "execution_count": 86,
   "metadata": {},
   "outputs": [
    {
     "name": "stdout",
     "output_type": "stream",
     "text": [
      "Maaf, saya tidak memiliki informasi tentang siapa Wakil Ketua BPK RI saat ini. Namun, berdasarkan dokumen yang saya miliki, tugas dan wewenang Wakil Ketua BPK RI adalah sebagai berikut:\n",
      "1. Melaksanakan pemeriksaan pengelolaan dan tanggung jawab keuangan negara secara umum bersama dengan Ketua.\n",
      "2. Melaksanakan proses Majelis Tuntutan Perbendaharaan.\n",
      "3. Melaksanakan pembinaan tugas Sekretariat Jenderal, Direktorat Utama Perencanaan, Evaluasi, dan Pengembangan Pemeriksaan Keuangan Negara, Direktorat Utama Pembinaan dan Pengembangan Hukum Pemeriksaan Keuangan Negara, Inspektorat Utama, dan Badan Pendidikan dan Pelatihan Pemeriksaan Keuangan Negara bersama dengan Ketua.\n",
      "4. Memberikan pengarahan pemeriksaan investigatif.\n"
     ]
    }
   ],
   "source": [
    "gpt_answer = json.loads(completion.choices[0].message.content)['response'][0]['text']\n",
    "print(gpt_answer)"
   ]
  },
  {
   "cell_type": "code",
   "execution_count": 87,
   "metadata": {},
   "outputs": [
    {
     "name": "stdout",
     "output_type": "stream",
     "text": [
      "Question:\n",
      "Siapa Wakil Ketua BPK RI saat ini dan apa tugas serta wewenangnya dalam pemeriksaan keuangan negara?\n",
      "---\n",
      "\n",
      "Expected answer:\n",
      "Wakil Ketua BPK RI saat ini adalah Dr. Agus Joko Pramono, M.Acc., Ak., CA., CSFA., CPA., CFrA., QGIA., CGCAE. Tugas dan wewenangnya dalam pemeriksaan keuangan negara adalah melaksanakan pemeriksaan pengelolaan dan tanggung jawab keuangan negara secara umum bersama dengan Ketua BPK.\n",
      "---\n",
      "\n",
      "Current answer:\n",
      "Maaf, saya tidak memiliki informasi tentang siapa Wakil Ketua BPK RI saat ini. Namun, berdasarkan dokumen yang saya miliki, tugas dan wewenang Wakil Ketua BPK RI adalah sebagai berikut:\n",
      "1. Melaksanakan pemeriksaan pengelolaan dan tanggung jawab keuangan negara secara umum bersama dengan Ketua.\n",
      "2. Melaksanakan proses Majelis Tuntutan Perbendaharaan.\n",
      "3. Melaksanakan pembinaan tugas Sekretariat Jenderal, Direktorat Utama Perencanaan, Evaluasi, dan Pengembangan Pemeriksaan Keuangan Negara, Direktorat Utama Pembinaan dan Pengembangan Hukum Pemeriksaan Keuangan Negara, Inspektorat Utama, dan Badan Pendidikan dan Pelatihan Pemeriksaan Keuangan Negara bersama dengan Ketua.\n",
      "4. Memberikan pengarahan pemeriksaan investigatif.\n",
      "---\n",
      "\n",
      "Evaluate Current answer compared to Expected answer. Response with following valid JSON format:\n",
      "\n",
      "{ \n",
      "    \"similarity\": <similarity percentage of current answer to expected answer>,\n",
      "\n",
      "    \"correctness\": <correctness percentage of current answer to expected answer>,\n",
      "\n",
      "    \"relevancy: <relevancy percentage of current answer to question>,\n",
      "\n",
      "    \"overall\": <overall percentage of all score combined>,\n",
      "\n",
      "    \"reasons\": <explain reasons for the evaluation in 50 words>,\n",
      "\n",
      "}\n",
      "\n"
     ]
    }
   ],
   "source": [
    "expected_answer = df['ground_truth'][2]\n",
    "eval_prompt = prompt.get_eval_prompt(query, expected_answer, gpt_answer)\n",
    "print(eval_prompt)"
   ]
  },
  {
   "cell_type": "code",
   "execution_count": 88,
   "metadata": {},
   "outputs": [],
   "source": [
    "eval_completion = api.get_completions_gpt4([\n",
    "        {\n",
    "        \"role\": \"user\",\n",
    "        \"content\": eval_prompt,\n",
    "        }\n",
    "    ], temp=0)"
   ]
  },
  {
   "cell_type": "code",
   "execution_count": 89,
   "metadata": {},
   "outputs": [
    {
     "name": "stdout",
     "output_type": "stream",
     "text": [
      "{ \n",
      "    \"similarity\": 60,\n",
      "\n",
      "    \"correctness\": 50,\n",
      "\n",
      "    \"relevancy\": 70,\n",
      "\n",
      "    \"overall\": 60,\n",
      "\n",
      "    \"reasons\": \"The current answer does not provide the name of the current Vice Chairman of BPK RI, which is part of the question. However, it does provide a detailed explanation of the duties and authorities of the Vice Chairman in the financial audit of the state, which is relevant and partially correct.\",\n",
      "\n",
      "}\n"
     ]
    }
   ],
   "source": [
    "print(eval_completion.choices[0].message.content)"
   ]
  },
  {
   "cell_type": "code",
   "execution_count": 90,
   "metadata": {},
   "outputs": [],
   "source": [
    "json_path = './gpt_answer/Fact New.json'\n",
    "with open(json_path, 'r') as json_file:\n",
    "    json_answer_data = json.load(json_file)"
   ]
  },
  {
   "cell_type": "code",
   "execution_count": 91,
   "metadata": {},
   "outputs": [
    {
     "name": "stdout",
     "output_type": "stream",
     "text": [
      "{'question': 'What health benefits does coffee consumption offer and how do they differ based on individual sensitivity and genetic polymorphisms?', 'answer': \"Moderate coffee consumption is safe for health and can even provide health benefits. It has positive health effects on various aspects of human health. Coffee can help prevent some chronic diseases such as type 2 diabetes, liver damage, and Parkinson's disease. It contains antioxidant compounds, especially chlorogenic acid which is a strong antioxidant. However, the caffeine content in coffee can be harmful to pregnant women and children if consumed excessively. Coffee can affect the absorption of calcium in the digestive tract and can increase the risk of osteoporosis. The diterpene content in coffee can increase cholesterol, but most diterpenes are removed by paper filters. Coffee can have cardiovascular effects such as tachycardia, high blood pressure, and arrhythmia. Coffee consumption can reduce the risk of suicide by 13% every day. However, the effects of coffee can vary greatly depending on individual sensitivity and genetic polymorphisms. For example, some people may be more sensitive to the effects of caffeine, while others may be more resistant. Similarly, some people may metabolize caffeine faster or slower than others, which can affect how they respond to coffee.\", 'contexts': ['Facts:\\n- Konsumsi kopi yang moderat aman bagi kesehatan dan bahkan dapat memberikan manfaat kesehatan.\\n- Kopi memiliki efek kesehatan yang positif pada berbagai aspek kesehatan manusia.\\n- Kopi dapat membantu mencegah beberapa penyakit kronis dan mengandung senyawa antioksidan.\\n- Kopi dapat membantu mencegah beberapa penyakit kronis seperti diabetes tipe 2, kerusakan hati, dan Parkinson.\\n- Kandungan kafein dalam kopi sangat bervariasi, berkisar antara 30 mg hingga 175 mg dalam satu cangkir (150 mL) kopi yang diseduh di rumah.\\n- Konsumsi kafein sedang (2-3 cangkir atau 300 mg/hari) tidak dikaitkan dengan efek buruk pada orang dewasa yang sehat.\\n- Kopi mengandung senyawa antioksidan, terutama asam klorogenat yang merupakan senyawa antioksidan kuat.\\n- Kafein dalam kopi dapat berbahaya bagi wanita hamil dan anak-anak jika dikonsumsi secara berlebihan.\\n- Kopi dapat mempengaruhi penyerapan kalsium dalam saluran pencernaan dan dapat meningkatkan risiko osteoporosis.\\n- Kandungan diterpen dalam kopi dapat meningkatkan kolesterol, namun sebagian besar diterpen dihilangkan oleh filter kertas.\\n- Kopi dapat memiliki efek kardiovaskular seperti tachycardia, tekanan darah tinggi, dan aritmia.\\n- Konsumsi kopi dapat mengurangi risiko bunuh diri sebesar 13% setiap harinya.\\n- Kopi telah menjadi bagian penting dalam kehidupan manusia selama setidaknya 1200 tahun.'], 'ground_truths': ['Coffee consumption offers several health benefits, including a reduced risk of cancer at various sites such as the liver and colorectum. The exact mechanism of how coffee protects against cancer is not clear. Coffee also has acute effects on the cardiovascular system, which may vary based on individual sensitivity and genetic polymorphisms. There may be a weak inverse association between coffee consumption and the risk of stroke, but further research is needed to confirm this. Coffee intake is unlikely to significantly contribute to the development of hypertension, except in infrequent coffee drinkers. However, excessive coffee consumption can have negative effects, so it is best to avoid heavy intake. Caffeine in coffee can slightly decrease the efficiency of calcium absorption, so it is recommended to limit coffee intake to 2-3 cups per day and ensure an adequate intake of calcium and vitamin D to reduce the risk of osteoporosis and fractures, especially in elderly adults. Overall, the positive effects of coffee consumption on various aspects of health have been observed, but individual sensitivity and genetic polymorphisms can influence the biological effects of coffee.']}\n"
     ]
    }
   ],
   "source": [
    "print(json_answer_data['Coffee_and_health'][0])"
   ]
  },
  {
   "cell_type": "markdown",
   "metadata": {},
   "source": [
    "# Eval Answer"
   ]
  },
  {
   "cell_type": "code",
   "execution_count": 3,
   "metadata": {},
   "outputs": [],
   "source": [
    "total_eval_prompt_token = 0\n",
    "total_eval_completion_token = 0"
   ]
  },
  {
   "cell_type": "code",
   "execution_count": 21,
   "metadata": {},
   "outputs": [],
   "source": [
    "def run_eval(json_path, doc_name, csv_path):\n",
    "    global total_eval_prompt_token, total_eval_completion_token\n",
    "    with open(json_path, 'r') as json_file:\n",
    "        json_answer_data = json.load(json_file)\n",
    "    \n",
    "    cur_doc_answer = json_answer_data[doc_name]\n",
    "    question_list, answer_list, context_list, truth_list = [], [], [], []\n",
    "    for i in cur_doc_answer:\n",
    "        question_list.append(i['question'])\n",
    "        answer_list.append(i['answer'])\n",
    "        knowledge = \"\"\n",
    "        for k in i['contexts']:\n",
    "            knowledge+=f'{k}\\n'\n",
    "        context_list.append(knowledge)\n",
    "        \n",
    "        ground_truth = \"\"\n",
    "        for j in i['ground_truths']:\n",
    "            ground_truth+=f'{j}\\n'\n",
    "        truth_list.append(ground_truth)\n",
    "\n",
    "    json_eval_result = []\n",
    "    for i in range(len(question_list)):\n",
    "        eval_prompt = prompt.get_eval_ragas_prompt(question_list[i], truth_list[i], answer_list[i], context_list[i])\n",
    "        eval_completion = api.get_completions_gpt4_turbo([\n",
    "            {\n",
    "            \"role\": \"user\",\n",
    "            \"content\": eval_prompt,\n",
    "            }\n",
    "        ], temp=0)\n",
    "        total_eval_prompt_token+=eval_completion.usage.prompt_tokens\n",
    "        total_eval_completion_token+=eval_completion.usage.completion_tokens\n",
    "        json_eval_result.append(json.loads(eval_completion.choices[0].message.content))\n",
    "    \n",
    "    df_eval_result = pd.DataFrame(json_eval_result)\n",
    "    df_eval_result.to_csv(csv_path)"
   ]
  },
  {
   "cell_type": "code",
   "execution_count": 10,
   "metadata": {},
   "outputs": [],
   "source": [
    "def run_eval_mod(json_path, doc_name, csv_path):\n",
    "    global total_eval_prompt_token, total_eval_completion_token\n",
    "    with open(json_path, 'r') as json_file:\n",
    "        json_answer_data = json.load(json_file)\n",
    "    \n",
    "    cur_doc_answer = json_answer_data[doc_name]\n",
    "    question_list, answer_list, context_list, truth_list = [], [], [], []\n",
    "    for i in cur_doc_answer:\n",
    "        question_list.append(i['question'])\n",
    "        answer_list.append(i['answer'])\n",
    "        knowledge = \"\"\n",
    "        for k in i['contexts']:\n",
    "            knowledge+=f'{k}\\n'\n",
    "        context_list.append(knowledge)\n",
    "        \n",
    "        ground_truth = \"\"\n",
    "        for j in i['ground_truths']:\n",
    "            ground_truth+=f'{j}\\n'\n",
    "        truth_list.append(ground_truth)\n",
    "\n",
    "    json_eval_result = []\n",
    "    for i in range(len(question_list)):\n",
    "        prompt_pr = prompt.get_eval_ragas_pr1(question_list[i], answer_list[i], context_list[i])\n",
    "        prompt_cr = prompt.get_eval_ragas_cr1(question_list[i], truth_list[i], answer_list[i])\n",
    "        eval_pr = api.get_completions_gpt4_turbo([\n",
    "            {\n",
    "            \"role\": \"user\",\n",
    "            \"content\": prompt_pr,\n",
    "            }\n",
    "        ], temp=0)\n",
    "        eval_cr = api.get_completions_gpt4_turbo([\n",
    "            {\n",
    "            \"role\": \"user\",\n",
    "            \"content\": prompt_cr,\n",
    "            }\n",
    "        ], temp=0)\n",
    "        total_eval_prompt_token+=(eval_pr.usage.prompt_tokens + eval_cr.usage.prompt_tokens)\n",
    "        total_eval_completion_token+=(eval_pr.usage.completion_tokens + eval_cr.usage.completion_tokens)\n",
    "        json_pr = json.loads(eval_pr.choices[0].message.content)\n",
    "        json_cr = json.loads(eval_cr.choices[0].message.content)\n",
    "        json_combined = {**json_pr, **json_cr}\n",
    "        json_eval_result.append(json_combined)\n",
    "    \n",
    "    df_eval_result = pd.DataFrame(json_eval_result)\n",
    "    df_eval_result.to_csv(csv_path)"
   ]
  },
  {
   "cell_type": "code",
   "execution_count": 4,
   "metadata": {},
   "outputs": [],
   "source": [
    "def run_eval_mod_cal(json_path, doc_name, csv_path):\n",
    "    global total_eval_prompt_token, total_eval_completion_token\n",
    "    with open(json_path, 'r') as json_file:\n",
    "        json_answer_data = json.load(json_file)\n",
    "    \n",
    "    cur_doc_answer = json_answer_data[doc_name]\n",
    "    question_list, answer_list, context_list, truth_list = [], [], [], []\n",
    "    for i in cur_doc_answer:\n",
    "        question_list.append(i['question'])\n",
    "        answer_list.append(i['answer'])\n",
    "        knowledge = \"\"\n",
    "        for k in i['contexts']:\n",
    "            knowledge+=f'{k}\\n'\n",
    "        context_list.append(knowledge)\n",
    "        \n",
    "        ground_truth = \"\"\n",
    "        for j in i['ground_truths']:\n",
    "            ground_truth+=f'{j}\\n'\n",
    "        truth_list.append(ground_truth)\n",
    "\n",
    "    json_eval_result = []\n",
    "    for i in range(len(question_list)):\n",
    "        json_cur_result = {}\n",
    "        prompt_pr = prompt.get_eval_ragas_pr2(question_list[i], answer_list[i], context_list[i])\n",
    "        prompt_cr = prompt.get_eval_ragas_cr2(question_list[i], truth_list[i], answer_list[i])\n",
    "        eval_pr = api.get_completions_gpt4_turbo([\n",
    "            {\n",
    "            \"role\": \"user\",\n",
    "            \"content\": prompt_pr,\n",
    "            }\n",
    "        ], temp=0)\n",
    "        eval_cr = api.get_completions_gpt4_turbo([\n",
    "            {\n",
    "            \"role\": \"user\",\n",
    "            \"content\": prompt_cr,\n",
    "            }\n",
    "        ], temp=0)\n",
    "        total_eval_prompt_token+=(eval_pr.usage.prompt_tokens + eval_cr.usage.prompt_tokens)\n",
    "        total_eval_completion_token+=(eval_pr.usage.completion_tokens + eval_cr.usage.completion_tokens)\n",
    "        json_pr = json.loads(eval_pr.choices[0].message.content)\n",
    "        json_cr = json.loads(eval_cr.choices[0].message.content)\n",
    "        json_cur_result[\"precision\"] = json_pr[\"precision\"]\n",
    "        json_cur_result[\"recall\"] = json_pr[\"tp\"] / json_pr[\"total\"]\n",
    "        json_cur_result[\"relevancy\"] = json_cr[\"relevancy\"]\n",
    "        json_cur_result[\"f1_score\"] = json_cr[\"tp\"] / (json_cr[\"tp\"] + 0.5 * (json_cr[\"fp\"]+json_cr[\"fn\"])) \n",
    "        json_eval_result.append(json_cur_result)\n",
    "    \n",
    "    df_eval_result = pd.DataFrame(json_eval_result)\n",
    "    df_eval_result.to_csv(csv_path)"
   ]
  },
  {
   "cell_type": "code",
   "execution_count": 6,
   "metadata": {},
   "outputs": [],
   "source": [
    "json_path = \"./gpt_answer/SentWindow.json\"\n",
    "csv_path = \"./eval_result/SentWindow/Health_RAGAS_DIV_CAL1.csv\"\n",
    "doc_name = \"FL Healthcare Use Case - Medical Record\"\n",
    "run_eval_mod_cal(json_path, doc_name, csv_path)"
   ]
  },
  {
   "cell_type": "code",
   "execution_count": 1,
   "metadata": {},
   "outputs": [
    {
     "ename": "NameError",
     "evalue": "name 'total_eval_prompt_token' is not defined",
     "output_type": "error",
     "traceback": [
      "\u001b[0;31m---------------------------------------------------------------------------\u001b[0m",
      "\u001b[0;31mNameError\u001b[0m                                 Traceback (most recent call last)",
      "Cell \u001b[0;32mIn[1], line 1\u001b[0m\n\u001b[0;32m----> 1\u001b[0m \u001b[38;5;28mprint\u001b[39m(\u001b[38;5;124mf\u001b[39m\u001b[38;5;124m\"\u001b[39m\u001b[38;5;124meval prompt token: \u001b[39m\u001b[38;5;132;01m{\u001b[39;00m\u001b[43mtotal_eval_prompt_token\u001b[49m\u001b[38;5;132;01m}\u001b[39;00m\u001b[38;5;130;01m\\n\u001b[39;00m\u001b[38;5;124meval completion token: \u001b[39m\u001b[38;5;132;01m{\u001b[39;00mtotal_eval_completion_token\u001b[38;5;132;01m}\u001b[39;00m\u001b[38;5;124m\"\u001b[39m)\n\u001b[1;32m      2\u001b[0m eval_prompt_token_price \u001b[38;5;241m=\u001b[39m total_eval_prompt_token \u001b[38;5;241m*\u001b[39m \u001b[38;5;241m0.01\u001b[39m \u001b[38;5;241m*\u001b[39m \u001b[38;5;241m0.001\u001b[39m\n\u001b[1;32m      3\u001b[0m eval_completion_token_price \u001b[38;5;241m=\u001b[39m total_eval_completion_token \u001b[38;5;241m*\u001b[39m \u001b[38;5;241m0.03\u001b[39m \u001b[38;5;241m*\u001b[39m \u001b[38;5;241m0.001\u001b[39m\n",
      "\u001b[0;31mNameError\u001b[0m: name 'total_eval_prompt_token' is not defined"
     ]
    }
   ],
   "source": [
    "print(f\"eval prompt token: {total_eval_prompt_token}\\neval completion token: {total_eval_completion_token}\")\n",
    "eval_prompt_token_price = total_eval_prompt_token * 0.01 * 0.001\n",
    "eval_completion_token_price = total_eval_completion_token * 0.03 * 0.001\n",
    "print(f\"eval prompt token price: {round(eval_prompt_token_price,2)}\\neval completion token price: {round(eval_completion_token_price,2)}\")"
   ]
  },
  {
   "cell_type": "markdown",
   "metadata": {},
   "source": [
    "# Get Answer from Test_Set"
   ]
  },
  {
   "cell_type": "code",
   "execution_count": 3,
   "metadata": {},
   "outputs": [],
   "source": [
    "total_prompt_token = 0\n",
    "total_completion_token = 0"
   ]
  },
  {
   "cell_type": "code",
   "execution_count": 82,
   "metadata": {},
   "outputs": [],
   "source": [
    "df_test_set = pd.read_csv('./test_set/Paper.csv')\n",
    "user_lang = \"english\""
   ]
  },
  {
   "cell_type": "code",
   "execution_count": 7,
   "metadata": {},
   "outputs": [],
   "source": [
    "# pdf_path = './pdfs/Perbup Sleman Nomor 11.3 Tahun 2019 ttg Pengelolaan keuangan desa - context_fact.pdf'\n",
    "# resource_ids = db.get_resource_ids(cursor, \"Test BPK -%\")"
   ]
  },
  {
   "cell_type": "code",
   "execution_count": 5,
   "metadata": {},
   "outputs": [],
   "source": [
    "doc_list = []\n",
    "resource_ids = []"
   ]
  },
  {
   "cell_type": "code",
   "execution_count": 6,
   "metadata": {},
   "outputs": [],
   "source": [
    "extract_method = \" - summary_fact - dolphin\"\n",
    "doc_list.append(\"CS Knowledges\"+extract_method)\n",
    "doc_list.append(\"Coffee_and_health\"+extract_method)\n",
    "doc_list.append(\"Test BPK\"+extract_method)\n",
    "doc_list.append(\"FL Healthcare Use Case - Medical Record\"+extract_method)\n",
    "doc_list.append(\"General Knowledge\"+extract_method)\n",
    "doc_list.append(\"KORAN-TEMPO\"+extract_method)\n",
    "# doc_list.append(\"Perbup Sleman Nomor 11.3 Tahun 2019 ttg Pengelolaan keuangan desa\"+extract_method)"
   ]
  },
  {
   "cell_type": "code",
   "execution_count": 7,
   "metadata": {},
   "outputs": [],
   "source": [
    "for doc in doc_list:\n",
    "    resource_ids.append(db.get_resource_id(cursor, doc))"
   ]
  },
  {
   "cell_type": "code",
   "execution_count": 8,
   "metadata": {},
   "outputs": [
    {
     "name": "stdout",
     "output_type": "stream",
     "text": [
      "6\n"
     ]
    }
   ],
   "source": [
    "print(len(resource_ids))"
   ]
  },
  {
   "cell_type": "code",
   "execution_count": 83,
   "metadata": {},
   "outputs": [],
   "source": [
    "test_answer = []\n",
    "for _, row in df_test_set.iterrows():\n",
    "    question = row[\"question\"]\n",
    "    retrieved = db.get_retrieved_knowledge(cursor, question, resource_ids, 25)\n",
    "    retrieved = [k[1] for k in retrieved]\n",
    "\n",
    "    chat_prompt = prompt.get_chat_prompt(question, retrieved, memory_max_tokens=500, lang=user_lang)\n",
    "    knowledges = prompt.get_knowledge_from_prompt(chat_prompt)\n",
    "    chat_completion = api.get_completions_dolphin([\n",
    "        {\n",
    "            \"role\": \"user\",\n",
    "            \"content\": chat_prompt,\n",
    "        }\n",
    "    ], temp=0)\n",
    "\n",
    "    total_prompt_token+=chat_completion.usage.prompt_tokens\n",
    "    total_completion_token+=chat_completion.usage.completion_tokens\n",
    "    \n",
    "    response = chat_completion.choices[0].message.content\n",
    "    try:\n",
    "        response = ast.literal_eval(response)\n",
    "    except:\n",
    "        response = ast.literal_eval(response.replace(\"null\", \"None\"))\n",
    "\n",
    "    if isinstance(response[\"response\"], list):\n",
    "        answer = \"\"\n",
    "        for m in response[\"response\"]:\n",
    "            answer += (m[\"text\"] + \" \")\n",
    "        # answer = response[\"response\"][0][\"text\"]\n",
    "    elif isinstance(response[\"response\"], dict):\n",
    "        answer = response[\"response\"][\"text\"]\n",
    "    else:\n",
    "        ValueError(f\"{response}\")\n",
    "\n",
    "    test_answer.append({\n",
    "        \"question\": question,\n",
    "        \"answer\": answer,\n",
    "        \"contexts\": knowledges,\n",
    "        \"ground_truths\": [row[\"ground_truth\"]]\n",
    "    })"
   ]
  },
  {
   "cell_type": "code",
   "execution_count": 10,
   "metadata": {},
   "outputs": [],
   "source": [
    "# dict_answer = {}\n",
    "with open('./gpt_answer/Dolphin_SummaryFact.json', 'r') as json_file:\n",
    "    dict_answer = json.load(json_file)"
   ]
  },
  {
   "cell_type": "code",
   "execution_count": 84,
   "metadata": {},
   "outputs": [],
   "source": [
    "dict_answer[\"Coffee_and_health\"] = test_answer"
   ]
  },
  {
   "cell_type": "code",
   "execution_count": 85,
   "metadata": {},
   "outputs": [],
   "source": [
    "with open('./gpt_answer/Dolphin_SummaryFact.json', 'w') as json_file:\n",
    "    json.dump(dict_answer, json_file, indent=2)"
   ]
  },
  {
   "cell_type": "code",
   "execution_count": 30,
   "metadata": {},
   "outputs": [
    {
     "name": "stdout",
     "output_type": "stream",
     "text": [
      "prompt token: 92215\n",
      "completion token: 21626\n",
      "prompt token price: 0.92\n",
      "completion token price: 0.65\n"
     ]
    }
   ],
   "source": [
    "prompt_token_price = (total_prompt_token * 0.001) * 0.01\n",
    "completion_token_price = (total_completion_token * 0.001) * 0.03\n",
    "print(f\"prompt token: {total_prompt_token}\\ncompletion token: {total_completion_token}\")\n",
    "print(f\"prompt token price: {round(prompt_token_price,2)}\\ncompletion token price: {round(completion_token_price,2)}\")"
   ]
  }
 ],
 "metadata": {
  "kernelspec": {
   "display_name": ".venv",
   "language": "python",
   "name": "python3"
  },
  "language_info": {
   "codemirror_mode": {
    "name": "ipython",
    "version": 3
   },
   "file_extension": ".py",
   "mimetype": "text/x-python",
   "name": "python",
   "nbconvert_exporter": "python",
   "pygments_lexer": "ipython3",
   "version": "3.11.7"
  }
 },
 "nbformat": 4,
 "nbformat_minor": 2
}
