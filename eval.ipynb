{
 "cells": [
  {
   "cell_type": "code",
   "execution_count": 54,
   "metadata": {},
   "outputs": [],
   "source": [
    "import os\n",
    "import psycopg2\n",
    "\n",
    "from openai import AzureOpenAI\n",
    "from dotenv import load_dotenv\n",
    "\n",
    "from pgvector.psycopg2 import register_vector\n",
    "\n",
    "load_dotenv()\n",
    "\n",
    "client = AzureOpenAI(\n",
    "    api_version=os.getenv(\"AZURE_OPENAI_API_VERSION\"),\n",
    "    azure_endpoint=os.getenv(\"AZURE_OPENAI_ENDPOINT\"),\n",
    ")\n",
    "\n",
    "conn = psycopg2.connect(os.getenv(\"POSTGRES_CONFIG\"))\n",
    "register_vector(conn)\n",
    "cursor = conn.cursor()\n",
    "\n",
    "\n",
    "def get_embeddings_ada(input):\n",
    "    response = client.embeddings.create(\n",
    "        input = input,\n",
    "        model= \"text-embedding-ada-002\"\n",
    "    )\n",
    "\n",
    "    return response.data[0].embedding\n",
    "\n",
    "def get_resource_id(cursor, resource_name):\n",
    "    query = \"\"\"SELECT * FROM resource WHERE name = %s;\"\"\"\n",
    "    cursor.execute(query, (resource_name,))\n",
    "    result = cursor.fetchone()\n",
    "    \n",
    "    return result[0]\n",
    "\n",
    "def get_retrieved_knowledge(cursor, query, resource_ids, top_k):\n",
    "    query = \"\"\"\n",
    "SELECT \n",
    "    c.id,\n",
    "    c.fact AS content,\n",
    "    json_build_object('number', c.number, 'summary', c.summary, 'filetype', m.filetype, 'name', r.name)::jsonb AS metadata,\n",
    "    1 - (c.embeddings <-> %(query_embedding)s::vector) AS similarity\n",
    "FROM fact c JOIN resource r ON c.resource_id = r.id JOIN metadata m ON r.id = m.resource_id\n",
    "WHERE c.resource_id = ANY (%(resource_ids)s::UUID[])\n",
    "ORDER BY c.embeddings <-> %(query_embedding)s::vector\n",
    "LIMIT %(match_count)s;\n",
    "\"\"\"\n",
    "    cursor.execute(query, {\n",
    "    \"query_embedding\": get_embeddings_ada(query),\n",
    "    \"resource_ids\": resource_ids,\n",
    "    \"match_count\": top_k,\n",
    "})\n",
    "    result = cursor.fetchall()\n",
    "\n",
    "    return result\n",
    "\n",
    "def delete_facts_resource(conn, cursor, resource_id):\n",
    "    delete_query = \"\"\"\n",
    "    DELETE FROM fact WHERE resource_id = %s;\n",
    "    \"\"\"\n",
    "    cursor.execute(delete_query, (resource_id,))\n",
    "    conn.commit()\n",
    "\n",
    "def insert_fact_resource(conn, cursor, data):\n",
    "    insert_query = \"\"\"\n",
    "    INSERT INTO fact (context, fact, resource_id, embeddings, summary, number)\n",
    "    VALUES (%(context)s, %(fact)s, %(resource_id)s, %(embeddings)s, %(summary)s, %(number)s);\n",
    "    \"\"\"\n",
    "    cursor.execute(insert_query, data)\n",
    "    conn.commit()"
   ]
  },
  {
   "cell_type": "code",
   "execution_count": 52,
   "metadata": {},
   "outputs": [],
   "source": [
    "query = \"\"\"\n",
    "SELECT \n",
    "    c.id,\n",
    "    c.fact AS content,\n",
    "    json_build_object('number', c.number, 'summary', c.summary, 'filetype', m.filetype, 'name', r.name)::jsonb AS metadata,\n",
    "    1 - (c.embeddings <-> %(query_embedding)s::vector) AS similarity\n",
    "FROM fact c JOIN resource r ON c.resource_id = r.id JOIN metadata m ON r.id = m.resource_id\n",
    "WHERE c.resource_id = ANY (%(resource_ids)s::UUID[])\n",
    "ORDER BY c.embeddings <-> %(query_embedding)s::vector\n",
    "LIMIT %(match_count)s;\n",
    "\"\"\"\n",
    "cursor.execute(query, {\n",
    "    \"query_embedding\": get_embeddings_ada(\"Siapakah Ketua BPK saat ini\"),\n",
    "    \"resource_ids\": [get_resource_id(cursor, \"Test BPK - NonLLM\")],\n",
    "    \"match_count\": 5,\n",
    "})"
   ]
  },
  {
   "cell_type": "code",
   "execution_count": 53,
   "metadata": {},
   "outputs": [
    {
     "name": "stdout",
     "output_type": "stream",
     "text": [
      "('c94259a9-8a83-49e8-8aa6-2a6dcc1e7eed', 'A. Pimpinan Badan Pemeriksa Keuangan Republik Indonesia (BPK RI) saat ini adalah sebagai berikut:\\nKetua BPK: Dr. Isma Yatun, CSFA., CFrA. \\nWakil Ketua BPK: Dr. Agus Joko Pramono, M.Acc., Ak., CA., CSFA., CPA., CFrA., QGIA., CGCAE.\\nAnggota I BPK: Nyoman Adhi Suryadnyana, SE., ME., M.Ak., CSFA., CertDA., CGCAE.\\nAnggota II BPK: Ir. Daniel Lumban Tobing, CSFA., CFrA.\\nAnggota III BPK: Prof. Dr. Achsanul Qosasi, CSFA., CFrA., CGCAE.\\nAnggota IV BPK: Haerul Saleh, SH., CRA., CRP., CIABV.\\nAnggota V BPK: Ir. H. Ahmadi Noor Supit, MM.\\nAnggota VI BPK: Dr. Pius Lustrilanang S.IP., M.Si., CSFA., CFrA.\\nAnggota VII BPK: Dr. Hendra Susanto, ST., M.Eng., MH., CFrA., CSFA., CIAE., CGCAE., CertDA.\\nB. Tugas dan Wewenang Pimpinan Badan Pemeriksa Keuangan Republik Indonesia (BPK RI) saat ini adalah sebagai berikut:\\n a. Tugas dan Wewenang Ketua BPK:\\n  i. Melaksanakan pemeriksaan pengelolaan dan tanggung jawab keuangan negara secara umum bersama dengan Wakil Ketua;\\n  ii. Melaksanakan tugas dan wewenang yang berkaitan dengan kelembagaan BPK;\\n  iii. Melaksanakan hubungan kelembagaan dalam negeri dan luar negeri;', {'name': 'Test BPK - NonLLM', 'number': 1, 'summary': '', 'filetype': 'pdf'}, 0.4907918302236981)\n",
      "('2489153e-0ec6-4d87-b53c-2545e5fb2d52', 'iv. Memberikan pengarahan pemeriksaan investigatif.\\n c. Tugas dan Wewenang Anggota BPK:\\n  i. Melaksanakan pemeriksaan pengelolaan dan tanggung jawab keuangan negara\\nC. Obyek, Lingkup Tugas, dan Portofolio Pimpinan Badan Pemeriksa Keuangan Republik Indonesia (BPK RI) saat ini adalah sebagai berikut:\\n a. Ketua dan Wakil Ketua memiliki obyek tugas pada Pelaksana BPK dan Para Pemangku Kepentingan\\n b. Anggota I memiliki obyek tugas pada kementerian yang terkait bidang Politik, Hukum, dan Keamanan yang meliputi:\\n  i. Kementerian Koordinator Bidang Politik, Hukum, dan Keamanan (Kemenko Polhukam)\\n  ii. Kementerian Luar Negeri (Kemenlu)\\n  iii. Kementerian Hukum dan HAM (Kemenkumham)\\n  iv. Kementerian Pertahanan (Kemenhan)\\n  v. Kementerian Perhubungan (Kemenhub)\\n  vi. Kejaksaan RI\\n  vii. Kepolisian Negara Indonesia (POLRI)\\n  viii. Badan Intelijen Negara (BIN)\\n  ix. Badan Nasional Narkotika (BNN)\\n  x. Badan Metrologi dan Geofisika (BMKG)\\n  xi. Lembaga Petahanan Nasional (Lemhanas)\\n  xii. Dewan Ketahanan Nasional (Wantanas)\\n  xiii. Badan Siber dan Sandi Negara (BSSN)\\n  xiv. Komisi Nasional HAM (Komnas HAM)\\n  xv. Komisi Pemberantasan Korupsi (KPK)\\n  xvi. Komisi Pemilihan Umum (KPU)\\n  xvii. Badan SAR Nasional (Basarnas)', {'name': 'Test BPK - NonLLM', 'number': 1, 'summary': '', 'filetype': 'pdf'}, 0.4207938226047915)\n",
      "('51fe5437-2a4f-43d3-9b57-443d75b6ca6e', 'ii. Melaksanakan tugas dan wewenang yang berkaitan dengan kelembagaan BPK;\\n  iii. Melaksanakan hubungan kelembagaan dalam negeri dan luar negeri;\\n  iv. Melaksanakan pembinaan tugas Sekretariat Jenderal, Direktorat Utama Perencanaan, Evaluasi, dan Pengembangan Pemeriksaan Keuangan Negara, Direktorat Utama Pembinaan dan Pengembangan Hukum Pemeriksaan Keuangan \\nNegara, Inspektorat Utama, dan Badan Pendidikan dan Pelatihan Pemeriksaan Keuangan Negara bersama dengan Wakil Ketua; dan \\n  v. Memberikan pengarahan pemeriksaan investigatif.\\n b. Tugas dan wewenang Wakil Ketua BPK:\\n  i. Melaksanakan pemeriksaan pengelolaan dan tanggung jawab keuangan negara secara umum bersama dengan Ketua;\\n  ii. Melaksanakan proses Majelis Tuntutan Perbendaharaan;\\n  iii. Melaksanakan pembinaan tugas Sekretariat Jenderal, Direktorat Utama Perencanaan, Evaluasi, dan Pengembangan Pemeriksaan Keuangan Negara, Direktorat Utama Pembinaan dan Pengembangan Hukum Pemeriksaan Keuangan \\nNegara, Inspektorat Utama, dan Badan Pendidikan dan Pelatihan Pemeriksaan Keuangan Negara bersama dengan Ketua;\\n  iv. Memberikan pengarahan pemeriksaan investigatif.\\n c. Tugas dan Wewenang Anggota BPK:\\n  i. Melaksanakan pemeriksaan pengelolaan dan tanggung jawab keuangan negara', {'name': 'Test BPK - NonLLM', 'number': 1, 'summary': '', 'filetype': 'pdf'}, 0.4129772826371425)\n",
      "('939ab891-d55a-443c-9b47-80b0984460bf', 'vii. BPH Migas\\n  viii. Badan Restorasi Gambut\\n f. Anggota V memiliki obyek tugas pada kementerian yang terkait bidang Dalam Negeri dan Keagamaan serta Pemerintah Daerah yang meliputi:\\n  i. Kemendagri\\n  ii. Kemenag\\n  iii. BPKS\\n  iv. BP Batam\\n  v. BPWS\\n  vi. BNPP\\n  vii. Pemerintah Provinsi, Kabupaten, Kota, dan Badan Usaha Milik Daerah di Wilayah I (Sumatera dan Jawa).\\n g. Anggota VI memiliki obyek tugas pada kementerian yang terkait bidang Pendidikan, Kesehatan, Pemerintah Daerah yang meliputi:\\n  i. Kemenkes\\n  ii. Kemendikbud\\n  iii. BPJS Kesehatan\\n  iv. BPOM\\n  v. Pemerintah Provinsi, Kabupaten, Kota, dan Badan Usaha Milik Daerah di Wilayah II (Bali, Nusa Tenggara, Kalimantan, Sulawesi, Maluku, dan Papua)\\n h. Anggota VII memiliki obyek tugas pada kementerian yang terkait bidang BUMN yang meliputi:\\n  i. Kementerian BUMN\\n  ii. SKK Migas\\n  iii. BUMN dan anak perusahaan.', {'name': 'Test BPK - NonLLM', 'number': 2, 'summary': '', 'filetype': 'pdf'}, 0.3625142790953668)\n",
      "('9ba281eb-2136-4a28-bb0c-d6ac8b7ea5c7', 'xiii. Badan Siber dan Sandi Negara (BSSN)\\n  xiv. Komisi Nasional HAM (Komnas HAM)\\n  xv. Komisi Pemberantasan Korupsi (KPK)\\n  xvi. Komisi Pemilihan Umum (KPU)\\n  xvii. Badan SAR Nasional (Basarnas)\\n  xviii. Badan Nasional Penanggulangan Teroris (BNPT)\\n  xix. Badan Pengawas Pemilu (Bawaslu)\\n  xx. Badan Keamanan Laut (Bakamla)\\n c. Anggota II memiliki obyek tugas pada kementerian yang terkait bidang Ekonomi, Keuangan, Industri, dan Perdagangan yang meliputi:\\n  i. Kemenko Bidang Perekonomian\\n  ii. Kementerian Keuangan (Kemenkeu)\\n  iii. Kementerian Perdagangan (Kemendag)\\n  iv. Kementerian Perindustrian (Kemenperin)\\n  v. Kementerian PPN/BAPPENAS\\n  vi. Kementerian Koperasi dan UKM\\n  vii. BKPM\\n  viii. BPS\\n  ix. Bank Indonesia \\n  x. OJK\\n  xi. PPATK\\n  xii. PT PPA\\n  xiii. LPS\\n  xiv. BSN\\n  xv. Laporan Keuangan Pemerintah Pusat \\n  xvi. KPPU', {'name': 'Test BPK - NonLLM', 'number': 1, 'summary': '', 'filetype': 'pdf'}, 0.35555059779272813)\n"
     ]
    }
   ],
   "source": [
    "result = cursor.fetchall()\n",
    "for res in result:\n",
    "    print(res)"
   ]
  },
  {
   "cell_type": "code",
   "execution_count": null,
   "metadata": {},
   "outputs": [],
   "source": []
  }
 ],
 "metadata": {
  "kernelspec": {
   "display_name": ".venv",
   "language": "python",
   "name": "python3"
  },
  "language_info": {
   "codemirror_mode": {
    "name": "ipython",
    "version": 3
   },
   "file_extension": ".py",
   "mimetype": "text/x-python",
   "name": "python",
   "nbconvert_exporter": "python",
   "pygments_lexer": "ipython3",
   "version": "3.11.6"
  }
 },
 "nbformat": 4,
 "nbformat_minor": 2
}
