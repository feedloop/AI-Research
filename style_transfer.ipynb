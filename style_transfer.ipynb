{
 "cells": [
  {
   "cell_type": "code",
   "execution_count": 194,
   "metadata": {},
   "outputs": [
    {
     "data": {
      "text/plain": [
       "True"
      ]
     },
     "execution_count": 194,
     "metadata": {},
     "output_type": "execute_result"
    }
   ],
   "source": [
    "import json, ast,time\n",
    "import pandas as pd\n",
    "\n",
    "from utils import api, db, prompt, prompting\n",
    "\n",
    "from importlib import reload\n",
    "\n",
    "from dotenv import load_dotenv\n",
    "load_dotenv()"
   ]
  },
  {
   "cell_type": "code",
   "execution_count": 183,
   "metadata": {},
   "outputs": [
    {
     "data": {
      "text/plain": [
       "<module 'utils.prompting' from '/Volumes/Personal/Work/Feedloop/fact_ext/from_github/AI-Research/utils/prompting.py'>"
      ]
     },
     "execution_count": 183,
     "metadata": {},
     "output_type": "execute_result"
    }
   ],
   "source": [
    "reload(prompt)\n",
    "reload(api)\n",
    "reload(db)\n",
    "reload(prompting)"
   ]
  },
  {
   "cell_type": "code",
   "execution_count": 46,
   "metadata": {},
   "outputs": [],
   "source": [
    "total_prompt_token = 0\n",
    "total_completion_token = 0"
   ]
  },
  {
   "cell_type": "markdown",
   "metadata": {},
   "source": [
    "# Style Transfer"
   ]
  },
  {
   "cell_type": "code",
   "execution_count": 47,
   "metadata": {},
   "outputs": [],
   "source": [
    "def run_model(eval_prompt):\n",
    "    return api.get_completions_gpt4_turbo([\n",
    "        {\n",
    "        \"role\": \"user\",\n",
    "        \"content\": eval_prompt,\n",
    "        }\n",
    "    ], temp=0.8)"
   ]
  },
  {
   "cell_type": "code",
   "execution_count": 48,
   "metadata": {},
   "outputs": [],
   "source": [
    "def increase_token_usage(completion):\n",
    "    global total_prompt_token, total_completion_token\n",
    "    total_prompt_token+=completion.usage.prompt_tokens\n",
    "    total_completion_token+=completion.usage.completion_tokens"
   ]
  },
  {
   "cell_type": "code",
   "execution_count": 49,
   "metadata": {},
   "outputs": [],
   "source": [
    "def convert_to_json(response):\n",
    "    try:\n",
    "        res_json = ast.literal_eval(response)\n",
    "    except:\n",
    "        res_json = ast.literal_eval(response.replace(\"null\", \"None\"))\n",
    "    return res_json"
   ]
  },
  {
   "cell_type": "code",
   "execution_count": 50,
   "metadata": {},
   "outputs": [],
   "source": [
    "def run_prompt(text):\n",
    "    eval_prompt = prompt.style_transfer4(text)\n",
    "    eval_completion = run_model(eval_prompt)\n",
    "    \n",
    "    increase_token_usage(eval_completion)\n",
    "\n",
    "    return convert_to_json(eval_completion.choices[0].message.content)"
   ]
  },
  {
   "cell_type": "code",
   "execution_count": 22,
   "metadata": {},
   "outputs": [],
   "source": [
    "def update_result(new_res):\n",
    "    # formals = formal.split(\". \")\n",
    "    formals = new_res[\"formal\"].split(\". \")\n",
    "    informals = new_res[\"informal\"].split(\". \")\n",
    "    alays = new_res[\"alay\"].split(\". \")\n",
    "    jaksels = new_res[\"jaksel\"].split(\". \")\n",
    "    res_list = []\n",
    "    for i in range(5):\n",
    "        new_dict = {}\n",
    "        new_dict[\"formal\"] = formals[i]\n",
    "        new_dict[\"informal\"] = informals[i]\n",
    "        new_dict[\"alay\"] = alays[i]\n",
    "        new_dict[\"jaksel\"] = jaksels[i]\n",
    "        res_list.append(new_dict)\n",
    "    return res_list"
   ]
  },
  {
   "cell_type": "code",
   "execution_count": 21,
   "metadata": {},
   "outputs": [],
   "source": [
    "def update_result1(new_res):\n",
    "    res_list = []\n",
    "    for i in range(5):\n",
    "        new_dict = {}\n",
    "        new_dict[\"formal\"] = new_res[\"formal\"][i]\n",
    "        new_dict[\"informal\"] = new_res[\"informal\"][i]\n",
    "        new_dict[\"alay\"] = new_res[\"alay\"][i]\n",
    "        new_dict[\"jaksel\"] = new_res[\"jaksel\"][i]\n",
    "        res_list.append(new_dict)\n",
    "    return res_list"
   ]
  },
  {
   "cell_type": "code",
   "execution_count": 23,
   "metadata": {},
   "outputs": [],
   "source": [
    "def save_result(result):\n",
    "    # res_list = update_result(result)\n",
    "    res_list = update_result1(result)\n",
    "    with open(f'./style_transfer/test_final.json', 'r') as json_file:\n",
    "        dict_temp = json.load(json_file)\n",
    "    dict_temp[\"result\"].extend(res_list)\n",
    "    with open(\"./style_transfer/test_final.json\", 'w') as json_file:\n",
    "        json.dump(dict_temp, json_file, indent=2)\n",
    "    print(len(dict_temp[\"result\"]))"
   ]
  },
  {
   "cell_type": "code",
   "execution_count": 10,
   "metadata": {},
   "outputs": [],
   "source": [
    "text = \"\"\"Saya ingin memimpin, jadi saya berjalan di depan, saudara laki-laki saya mengikuti saya, dan ayah saya di belakang. Itu adalah hari yang indah ketika kami mulai berjalan; langit biru tua di atas kami, matahari menyinari kami dari atas kepala kami, dan di sekeliling Anda bisa mendengar dengungan serangga dan gemerisik angin di dedaunan semak hijau yang indah. Aku bisa mencium bau indah bunga musim panas di sekitarku. Tiba-tiba seekor ular besar muncul di hadapan saya. Awalnya, saya tidak peduli dan mengganggunya dengan kayu kecil. Namun, ular tersebut langsung mengejar saya dan berusaha menggigit. Saya panik dan berlari sekencang mungkin. Ayah yang melihat peristiwa tersebut langsung memanggil nama saya secara histeris dan menarik saya sekuat tenaga dari area hutan. Meski sudah bertahun-tahun, cerita ini masih membekas di benak saya. Saya sangat ingat hari itu, dan saya bersyukur ayah saya menyelamatkan saya dari gigitan ular. Saya juga belajar bahwa saya harus lebih berhati-hati saat berjalan di alam liar dan memperlakukan hewan dengan hormat. Itulah mengapa ini adalah peristiwa penting dalam hidup saya.\"\"\""
   ]
  },
  {
   "cell_type": "code",
   "execution_count": 38,
   "metadata": {},
   "outputs": [],
   "source": [
    "themes = [\"Indonesian Culture and Traditions\", \"Indonesian Cuisine\", \"Tourism in Indonesia\", \"Indonesian History\", \"Environmental Issues in Indonesia\", \"Education System in Indonesia\",\"Learning Japanese Language\", \"Understanding Japanese Culture\", \"Travelling in Japanese\", \"Cooking Japanese Dishes\", \"Hobbies\", \"Experience as a Teacher\", \"Mohammad Hatta\", \"Raden Ajeng Kartini\", \"Pramoedya Ananta Toer\", \"B.J. Habibie\", \"Susi Pudjiastuti\", \"Dian Sastro\", \"Nicholas Saputra\",\"Retno Marsudi\", \"Anies Baswedan\", \"Ganjar Pranowo\", \"Ridwan Kamil\",\"Malin Kundang\", \"Roro Jonggrang\", \"Nyi Roro Kidul\", \"Keong Mas\", \"The Tale of Cendrawasih\",\"Developments in Renewable Energy Technologies\", \"Global Health Challenges and Medical Breakthroughs\", \"Trends and Innovations in the Automotive Industry\", \"Impact of Social Media on Society and Culture\", \"Major Sporting Events and Athlete Achievements\",\"Healthy Recipe Ideas for a Balanced Diet\",\"Tips for Sustainable Living and Eco-Friendly Practices\",\"Travel Destinations: Hidden Gems Around the World\",\n",
    "\"Home Workout Routines for Beginners\",\n",
    "\"DIY Home Decor Projects and Ideas\",\n",
    "\"Mindfulness and Mental Wellness Practices\",\n",
    "\"Fashion Trends: Seasonal Styles and Accessories\",\n",
    "\"Book Recommendations and Reviews\",\n",
    "\"Pet Care Advice for New Pet Owners\",\n",
    "\"Photography Tips for Amateur Photographers\",\"Pride and Prejudice by Jane Austen\",\n",
    "\"1984 by George Orwell\",\n",
    "# \"To Kill a Mockingbird by Harper Lee\",\n",
    "# \"The Great Gatsby by F. Scott Fitzgerald\",\n",
    "# \"Moby-Dick by Herman Melville\",\n",
    "# \"War and Peace by Leo Tolstoy\",\n",
    "# \"Hamlet by William Shakespeare\",\n",
    "\"One Hundred Years of Solitude by Gabriel García Márquez\",\n",
    "\"The Odyssey by Homer\",\n",
    "\"The Catcher in the Rye by J.D. Salinger\",\"The Structure of DNA by James Watson and Francis Crick\",\n",
    "\"Relativity: The Special and General Theory by Albert Einstein\",\n",
    "# \"The Interpretation of Dreams by Sigmund Freud\",\n",
    "# \"On the Electrodynamics of Moving Bodies by Albert Einstein\",\n",
    "# \"The Wealth of Nations by Adam Smith\",\n",
    "# \"The Origin of Species by Charles Darwin\",\n",
    "\"Principia Mathematica by Isaac Newton\",\n",
    "\"A Brief History of Time by Stephen Hawking\",\n",
    "\"Silent Spring by Rachel Carson\",\n",
    "\"The Social Contract by Jean-Jacques Rousseau\",\"Apple iPhone 14\",\n",
    "\"Bose QuietComfort 35 II Wireless Headphones\",\n",
    "\"CeraVe Moisturizing Cream\",\n",
    "\"Dell XPS 15 Laptop\",\n",
    "# \"Philips Hue Smart Lighting System\",\n",
    "# \"Seventh Generation Natural Laundry Detergent\",\n",
    "# \"Fitbit Charge 5 Fitness Tracker\",\n",
    "# \"LEGO Mindstorms Robot Inventor Building Set\",\n",
    "\"Canon EOS 5D Mark IV DSLR Camera\",\n",
    "\"HelloFresh Meal Kit Subscription Service\"]"
   ]
  },
  {
   "cell_type": "code",
   "execution_count": null,
   "metadata": {},
   "outputs": [],
   "source": [
    "themes = [\"Indonesian Culture and Traditions\", \"Indonesian Cuisine\", \"Tourism in Indonesia\", \"Indonesian History\", \"Basic Science\", \"Technology\", \"Environmental Issues in Indonesia\", \"Health and Wellness\", \"Education System in Indonesia\",\"Learning Japanese Language\", \"Understanding Japanese Culture\", \"Travelling in Japanese\", \"Cooking Japanese Dishes\", \"Education in Japanese\",\"Hobbies\", \"Experience as a Teacher\", \"Soekarno\", \"Mohammad Hatta\", \"Soeharto\", \"Raden Ajeng Kartini\", \"Pramoedya Ananta Toer\", \"B.J. Habibie\", \"Susi Pudjiastuti\", \"Dian Sastro\", \"Nicholas Saputra\",\"Retno Marsudi\", \"Anies Baswedan\", \"Ganjar Pranowo\", \"Ridwan Kamil\",\"Malin Kundang\", \"Roro Jonggrang\", \"Sangkuriang\", \"Lutung Kasarung\", \"Nyi Roro Kidul\", \"Keong Mas\", \"The Tale of Cendrawasih\",\"Political Elections and Leadership Changes Worldwide\", \"Developments in Renewable Energy Technologies\", \"Global Health Challenges and Medical Breakthroughs\", \"Trends and Innovations in the Automotive Industry\", \"Impact of Social Media on Society and Culture\", \"Major Sporting Events and Athlete Achievements\",\"Healthy Recipe Ideas for a Balanced Diet\",\"Tips for Sustainable Living and Eco-Friendly Practices\",\"Travel Destinations: Hidden Gems Around the World\",\n",
    "\"Home Workout Routines for Beginners\",\n",
    "\"DIY Home Decor Projects and Ideas\",\n",
    "\"Mindfulness and Mental Wellness Practices\",\n",
    "\"Fashion Trends: Seasonal Styles and Accessories\",\n",
    "\"Book Recommendations and Reviews\",\n",
    "\"Pet Care Advice for New Pet Owners\",\n",
    "\"Photography Tips for Amateur Photographers\",\"Pride and Prejudice by Jane Austen\",\n",
    "\"1984 by George Orwell\",\n",
    "# \"To Kill a Mockingbird by Harper Lee\",\n",
    "# \"The Great Gatsby by F. Scott Fitzgerald\",\n",
    "# \"Moby-Dick by Herman Melville\",\n",
    "# \"War and Peace by Leo Tolstoy\",\n",
    "# \"Hamlet by William Shakespeare\",\n",
    "\"One Hundred Years of Solitude by Gabriel García Márquez\",\n",
    "\"The Odyssey by Homer\",\n",
    "\"The Catcher in the Rye by J.D. Salinger\",\"The Structure of DNA by James Watson and Francis Crick\",\n",
    "\"Relativity: The Special and General Theory by Albert Einstein\",\n",
    "# \"The Interpretation of Dreams by Sigmund Freud\",\n",
    "# \"On the Electrodynamics of Moving Bodies by Albert Einstein\",\n",
    "# \"The Wealth of Nations by Adam Smith\",\n",
    "# \"The Origin of Species by Charles Darwin\",\n",
    "\"Principia Mathematica by Isaac Newton\",\n",
    "\"A Brief History of Time by Stephen Hawking\",\n",
    "\"Silent Spring by Rachel Carson\",\n",
    "\"The Social Contract by Jean-Jacques Rousseau\",\"Apple iPhone 14\",\n",
    "\"Bose QuietComfort 35 II Wireless Headphones\",\n",
    "\"CeraVe Moisturizing Cream\",\n",
    "\"Dell XPS 15 Laptop\",\n",
    "# \"Philips Hue Smart Lighting System\",\n",
    "# \"Seventh Generation Natural Laundry Detergent\",\n",
    "# \"Fitbit Charge 5 Fitness Tracker\",\n",
    "# \"LEGO Mindstorms Robot Inventor Building Set\",\n",
    "\"Canon EOS 5D Mark IV DSLR Camera\",\n",
    "\"HelloFresh Meal Kit Subscription Service\"]"
   ]
  },
  {
   "cell_type": "code",
   "execution_count": 39,
   "metadata": {},
   "outputs": [
    {
     "name": "stdout",
     "output_type": "stream",
     "text": [
      "60\n"
     ]
    }
   ],
   "source": [
    "print(len(themes))"
   ]
  },
  {
   "cell_type": "code",
   "execution_count": 31,
   "metadata": {},
   "outputs": [],
   "source": [
    "t = \"1984 by George Orwell\"\n",
    "test_input = f\"Generate a 5-sentences text conversation about {t}\"\n",
    "result = run_prompt(test_input)"
   ]
  },
  {
   "cell_type": "code",
   "execution_count": 40,
   "metadata": {},
   "outputs": [
    {
     "name": "stdout",
     "output_type": "stream",
     "text": [
      "928\n",
      "933\n",
      "938\n",
      "943\n",
      "948\n",
      "953\n",
      "958\n",
      "963\n",
      "968\n",
      "973\n",
      "978\n",
      "983\n",
      "988\n",
      "993\n",
      "998\n",
      "1003\n",
      "1008\n",
      "1013\n",
      "1018\n",
      "1023\n",
      "1028\n",
      "1033\n",
      "1038\n",
      "1043\n",
      "1048\n",
      "1053\n",
      "1058\n",
      "1063\n",
      "1068\n",
      "1073\n",
      "1078\n",
      "1083\n",
      "1088\n",
      "1093\n",
      "1098\n",
      "1103\n",
      "1108\n",
      "1113\n",
      "1118\n",
      "1123\n",
      "1128\n",
      "1133\n",
      "1138\n",
      "1143\n",
      "1148\n",
      "1153\n",
      "1158\n",
      "1163\n",
      "1168\n",
      "1173\n",
      "1178\n",
      "1183\n",
      "1188\n",
      "1193\n",
      "1198\n",
      "1203\n",
      "1208\n",
      "1213\n",
      "1218\n",
      "1223\n"
     ]
    }
   ],
   "source": [
    "for t in themes:\n",
    "    # input = f\"Generate a 5-sentences paragraph for {t} review\"\n",
    "    input = f\"Generate a 5-sentences text conversation about {t}\"\n",
    "    # input = f\"Generate 5 distinct questions about {t}\"\n",
    "    result = run_prompt(input)\n",
    "    save_result(result)\n",
    "    time.sleep(10)"
   ]
  },
  {
   "cell_type": "markdown",
   "metadata": {},
   "source": [
    "# Instruction Generation"
   ]
  },
  {
   "cell_type": "code",
   "execution_count": null,
   "metadata": {},
   "outputs": [],
   "source": [
    "gen_instruction_prompt = \"\"\"--- Reference Text:\n",
    "Create the {{Indonesian}} translation from the given {{text}}.\n",
    "\n",
    "--- Instruction:\n",
    "Generate 25 variation texts from the reference text, each one should be distinct. Provide output based on JSON structure below:\n",
    "{\n",
    "    \"gen_instructions\": <generated texts>[]\n",
    "}\n",
    "\"\"\"\n",
    "cur_res = run_prompt(gen_instruction_prompt)"
   ]
  },
  {
   "cell_type": "code",
   "execution_count": 168,
   "metadata": {},
   "outputs": [],
   "source": [
    "def save_instruction(result):\n",
    "    # res_list = update_result(result)\n",
    "    res_list = result[\"gen_instructions\"]\n",
    "    with open(f'./style_transfer/instructions_tr.json', 'r') as json_file:\n",
    "        dict_temp = json.load(json_file)\n",
    "    dict_temp[\"instructions\"].extend(res_list)\n",
    "    with open(\"./style_transfer/instructions_tr.json\", 'w') as json_file:\n",
    "        json.dump(dict_temp, json_file, indent=2)\n",
    "    print(len(dict_temp[\"instructions\"]))"
   ]
  },
  {
   "cell_type": "code",
   "execution_count": 176,
   "metadata": {},
   "outputs": [
    {
     "name": "stdout",
     "output_type": "stream",
     "text": [
      "75\n"
     ]
    }
   ],
   "source": [
    "save_instruction(cur_res)"
   ]
  },
  {
   "cell_type": "markdown",
   "metadata": {},
   "source": [
    "## Generate Result"
   ]
  },
  {
   "cell_type": "code",
   "execution_count": 160,
   "metadata": {},
   "outputs": [],
   "source": [
    "def gen_instruction_json(source, target):\n",
    "    with open(f'./style_transfer/ins_style.json', 'r') as json_file:\n",
    "        dict_res = json.load(json_file)\n",
    "    with open(f'./style_transfer/instructions.json', 'r') as json_file:\n",
    "        dict_inst = json.load(json_file)\n",
    "    with open(f'./style_transfer/style_trf_data.json', 'r') as json_file:\n",
    "        dict_data = json.load(json_file)\n",
    "    c = 0\n",
    "    for i in dict_data[\"result\"]:\n",
    "        text = \"\"\n",
    "        if c > 197:\n",
    "            c = 0\n",
    "        dict_res[\"output\"].append(i[target])\n",
    "        input = i[source]\n",
    "        if (c) <= 102:\n",
    "            text = f\"Text: {input}\\n\\n\"\n",
    "            if c%2 != 0:\n",
    "                text+=\"--- Instruction:\\n\"\n",
    "            dict_res[\"input\"].append(text+dict_inst[\"instructions\"][c].format(target))\n",
    "            c += 1\n",
    "            continue\n",
    "        if (c)%2 != 0:\n",
    "            text+=\"--- Instruction:\\n\"\n",
    "        text+=dict_inst[\"instructions\"][c].format(target)\n",
    "        dict_res[\"input\"].append(text+f\"\\n\\nText: {input}\")\n",
    "        c += 1\n",
    "    with open(\"./style_transfer/ins_style.json\", 'w') as json_file:\n",
    "        json.dump(dict_res, json_file, indent=2)\n",
    "    "
   ]
  },
  {
   "cell_type": "code",
   "execution_count": 210,
   "metadata": {},
   "outputs": [],
   "source": [
    "def gen_instruction_json1(source, target):\n",
    "    with open(f'./style_transfer/ins_trans.json', 'r') as json_file:\n",
    "        dict_res = json.load(json_file)\n",
    "    with open(f'./style_transfer/instructions_tr1.json', 'r') as json_file:\n",
    "        dict_inst = json.load(json_file)\n",
    "    df_trans = pd.read_csv(\"./style_transfer/train.csv\")\n",
    "    c = 0\n",
    "    dict_ind = {\"indonesian\": \"indonesia\", \"english\": \"inggris\", \"sundanese\":\"sunda\", \"javanese\":\"jawa\"}\n",
    "    target_ind = dict_ind[target]\n",
    "    for _, row in df_trans.iterrows():\n",
    "        text = \"\"\n",
    "        if c > 49:\n",
    "            c = 0\n",
    "        dict_res[\"output\"].append(row[target])\n",
    "        input = row[source]\n",
    "        if (c) <= 24:\n",
    "            text = f\"Text: {input}\\n\\n\"\n",
    "            if c%2 != 0:\n",
    "                text+=\"--- Instruction:\\n\"\n",
    "            dict_res[\"input\"].append(text+dict_inst[\"instructions\"][c].format(target_ind))\n",
    "            c += 1\n",
    "            continue\n",
    "        if (c)%2 != 0:\n",
    "            text+=\"--- Instruction:\\n\"\n",
    "        text+=dict_inst[\"instructions\"][c].format(target_ind)\n",
    "        dict_res[\"input\"].append(text+f\"\\n\\nText: {input}\")\n",
    "        c += 1\n",
    "    with open(\"./style_transfer/ins_trans.json\", 'w') as json_file:\n",
    "        json.dump(dict_res, json_file, indent=2)"
   ]
  },
  {
   "cell_type": "code",
   "execution_count": 211,
   "metadata": {},
   "outputs": [],
   "source": [
    "lang_opt = [\"indonesian\", \"english\", \"sundanese\", \"javanese\"]\n",
    "for i in lang_opt:\n",
    "    for j in lang_opt:\n",
    "        if j == i:\n",
    "            continue\n",
    "        gen_instruction_json1(i, j)"
   ]
  },
  {
   "cell_type": "code",
   "execution_count": 162,
   "metadata": {},
   "outputs": [],
   "source": [
    "lang_styles = [\"formal\", \"informal\", \"alay\", \"jaksel\"]\n",
    "for i in lang_styles:\n",
    "    for j in lang_styles:\n",
    "        if j == i:\n",
    "            continue\n",
    "        gen_instruction_json(i, j)"
   ]
  },
  {
   "cell_type": "code",
   "execution_count": 217,
   "metadata": {},
   "outputs": [
    {
     "name": "stdout",
     "output_type": "stream",
     "text": [
      "1223\n"
     ]
    }
   ],
   "source": [
    "with open(f'./style_transfer/ins_trans.json', 'r') as json_file:\n",
    "    dict_inst = json.load(json_file)\n",
    "print(len(dict_inst[\"input\"]))\n",
    "print(dict_inst[\"input\"][8888])\n",
    "print(dict_inst[\"output\"][8888])"
   ]
  },
  {
   "cell_type": "code",
   "execution_count": 85,
   "metadata": {},
   "outputs": [
    {
     "name": "stdout",
     "output_type": "stream",
     "text": [
      "Proceed to translate the text into Indonesian, applying a {} tone throughout.\n"
     ]
    }
   ],
   "source": [
    "with open(f'./style_transfer/instructions.json', 'r') as json_file:\n",
    "    dict_temp = json.load(json_file)\n",
    "for i in range(len(dict_temp[\"instructions\"])):\n",
    "    if i == 102:\n",
    "        print(dict_temp[\"instructions\"][i])\n",
    "        break\n",
    "# for t in dict_temp[\"instructions\"]:\n",
    "#     print(t.format(\"alay\"))"
   ]
  },
  {
   "cell_type": "code",
   "execution_count": null,
   "metadata": {},
   "outputs": [],
   "source": [
    "with open(f'./style_transfer/instructions.json', 'r') as json_file:\n",
    "    dict_ins = json.load(json_file)\n",
    "for i in dict_ins[\"instructions\"]:\n",
    "    print(i.format(\"jaksel\"))"
   ]
  },
  {
   "cell_type": "code",
   "execution_count": 180,
   "metadata": {},
   "outputs": [
    {
     "name": "stdout",
     "output_type": "stream",
     "text": [
      "prompt token: 2735\n",
      "completion token: 8386\n",
      "prompt token price: 0.03\n",
      "completion token price: 0.25\n"
     ]
    }
   ],
   "source": [
    "print(f\"prompt token: {total_prompt_token}\\ncompletion token: {total_completion_token}\")\n",
    "prompt_token_price = total_prompt_token * 0.01 * 0.001\n",
    "completion_token_price = total_completion_token * 0.03 * 0.001\n",
    "print(f\"prompt token price: {round(prompt_token_price,2)}\\ncompletion token price: {round(completion_token_price,2)}\")"
   ]
  }
 ],
 "metadata": {
  "kernelspec": {
   "display_name": "Python 3",
   "language": "python",
   "name": "python3"
  },
  "language_info": {
   "codemirror_mode": {
    "name": "ipython",
    "version": 3
   },
   "file_extension": ".py",
   "mimetype": "text/x-python",
   "name": "python",
   "nbconvert_exporter": "python",
   "pygments_lexer": "ipython3",
   "version": "3.11.7"
  }
 },
 "nbformat": 4,
 "nbformat_minor": 2
}
