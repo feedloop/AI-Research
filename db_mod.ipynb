{
 "cells": [
  {
   "cell_type": "code",
   "execution_count": 1,
   "metadata": {},
   "outputs": [],
   "source": [
    "import os\n",
    "import psycopg2\n",
    "import json\n",
    "\n",
    "from dotenv import load_dotenv\n",
    "\n",
    "from pgvector.psycopg2 import register_vector\n",
    "\n",
    "from importlib import reload\n",
    "from utils import db, prompting, api, prompt\n",
    "\n",
    "from pypdf import PdfReader\n",
    "\n",
    "load_dotenv()\n",
    "\n",
    "conn = psycopg2.connect(os.getenv(\"POSTGRES_CONFIG\"))\n",
    "register_vector(conn)\n",
    "cursor = conn.cursor()"
   ]
  },
  {
   "cell_type": "code",
   "execution_count": 2,
   "metadata": {},
   "outputs": [
    {
     "data": {
      "text/plain": [
       "<module 'utils.prompting' from '/Volumes/Personal/Work/Feedloop/fact_ext/from_github/AI-Research/utils/prompting.py'>"
      ]
     },
     "execution_count": 2,
     "metadata": {},
     "output_type": "execute_result"
    }
   ],
   "source": [
    "reload(prompt)\n",
    "reload(api)\n",
    "reload(db)\n",
    "reload(prompting)"
   ]
  },
  {
   "cell_type": "code",
   "execution_count": 12,
   "metadata": {},
   "outputs": [],
   "source": [
    "pdf_path = \"./pdfs/CS Knowledges - context_fact1.pdf\""
   ]
  },
  {
   "cell_type": "code",
   "execution_count": 13,
   "metadata": {},
   "outputs": [
    {
     "name": "stdout",
     "output_type": "stream",
     "text": [
      "0aa4f60a-4058-4e13-8d8a-88927c4f34a6\n"
     ]
    }
   ],
   "source": [
    "resource_id = db.get_resource_id(cursor, \"CS Knowledges - context_fact1\")\n",
    "print(resource_id)"
   ]
  },
  {
   "cell_type": "code",
   "execution_count": 19,
   "metadata": {},
   "outputs": [
    {
     "name": "stdout",
     "output_type": "stream",
     "text": [
      "(60,)\n"
     ]
    }
   ],
   "source": [
    "fact_count = db.count_facts_resource(cursor, resource_id)\n",
    "print(fact_count)"
   ]
  },
  {
   "cell_type": "code",
   "execution_count": 15,
   "metadata": {},
   "outputs": [],
   "source": [
    "db.delete_facts_resource(conn, cursor, resource_id)"
   ]
  },
  {
   "cell_type": "markdown",
   "metadata": {},
   "source": [
    "# Write to DB"
   ]
  },
  {
   "cell_type": "markdown",
   "metadata": {},
   "source": [
    "## Fragment Prompt"
   ]
  },
  {
   "cell_type": "code",
   "execution_count": 167,
   "metadata": {},
   "outputs": [],
   "source": [
    "def execute_fragment_prompt(pdf_path, resource_id):\n",
    "    reader = PdfReader(pdf_path)\n",
    "    insert_query = \"\"\"\n",
    "        INSERT INTO fact (context, fact, resource_id, embeddings, summary, number)\n",
    "        VALUES (%s, %s, %s, %s, %s, %s);\n",
    "        \"\"\"\n",
    "    page_num = 1\n",
    "    cur_summary = \"\"\n",
    "    for page in reader.pages:\n",
    "        messages = [\n",
    "        {\n",
    "            \"role\": \"user\",\n",
    "            \"content\": prompting.fragment_prompt(page.extract_text(), cur_summary)\n",
    "        },\n",
    "        ]\n",
    "        completion = api.get_completions_gpt35(messages, 0)\n",
    "        res_json = json.loads(completion.choices[0].message.content)\n",
    "\n",
    "        context_list = [item['topic'] for item in res_json['fragments']]\n",
    "        fact_list = [item['fragment'] for item in res_json['fragments']]\n",
    "        cur_summary = res_json['docSummary']\n",
    "\n",
    "        for i in range(len(fact_list)):\n",
    "            embed_result = api.get_embeddings_ada(fact_list[i])\n",
    "            cursor.execute(insert_query, (context_list[i], fact_list[i], resource_id, embed_result, cur_summary, page_num))\n",
    "        \n",
    "        conn.commit()\n",
    "        page_num+=1"
   ]
  },
  {
   "cell_type": "code",
   "execution_count": 182,
   "metadata": {},
   "outputs": [],
   "source": [
    "execute_fragment_prompt(pdf_path, resource_id)"
   ]
  },
  {
   "cell_type": "markdown",
   "metadata": {},
   "source": [
    "## Fact New Prompt"
   ]
  },
  {
   "cell_type": "code",
   "execution_count": 140,
   "metadata": {},
   "outputs": [],
   "source": [
    "def execute_fact_prompt(pdf_path, resource_id):\n",
    "    reader = PdfReader(pdf_path)\n",
    "    insert_query = \"\"\"\n",
    "        INSERT INTO fact (context, fact, resource_id, embeddings, summary, number)\n",
    "        VALUES (%s, %s, %s, %s, %s, %s);\n",
    "        \"\"\"\n",
    "    page_num = 1\n",
    "    cur_summary = \"\"\n",
    "    for page in reader.pages:\n",
    "        messages = [\n",
    "        {\n",
    "            \"role\": \"user\",\n",
    "            \"content\": prompting.fact_prompt(page.extract_text(), cur_summary)\n",
    "        },\n",
    "        ]\n",
    "        completion = api.get_completions_gpt35(messages, 0)\n",
    "        res_json = json.loads(completion.choices[0].message.content)\n",
    "\n",
    "        context_list = [item['context'] for item in res_json['facts']]\n",
    "        fact_list = [item['fact'] for item in res_json['facts']]\n",
    "        cur_summary = res_json['docSummary']\n",
    "\n",
    "        for i in range(len(fact_list)):\n",
    "            embed_result = api.get_embeddings_ada(fact_list[i])\n",
    "            cursor.execute(insert_query, (context_list[i], fact_list[i], resource_id, embed_result, cur_summary, page_num))\n",
    "        \n",
    "        conn.commit()\n",
    "        page_num+=1"
   ]
  },
  {
   "cell_type": "code",
   "execution_count": 150,
   "metadata": {},
   "outputs": [],
   "source": [
    "execute_fact_prompt(pdf_path, resource_id)"
   ]
  },
  {
   "cell_type": "markdown",
   "metadata": {},
   "source": [
    "## Context Prompt"
   ]
  },
  {
   "cell_type": "code",
   "execution_count": 17,
   "metadata": {},
   "outputs": [],
   "source": [
    "def execute_context_prompt(pdf_path, resource_id):\n",
    "    reader = PdfReader(pdf_path)\n",
    "    insert_query = \"\"\"\n",
    "        INSERT INTO fact (context, fact, resource_id, embeddings, summary, number)\n",
    "        VALUES (%s, %s, %s, %s, %s, %s);\n",
    "        \"\"\"\n",
    "    page_num = 1\n",
    "    for page in reader.pages:\n",
    "        messages = [\n",
    "        {\n",
    "            \"role\": \"user\",\n",
    "            \"content\": prompting.context_prompt(page.extract_text())\n",
    "        },\n",
    "        ]\n",
    "        completion = api.get_completions_gpt35(messages, 0)\n",
    "        res_json = json.loads(completion.choices[0].message.content)\n",
    "\n",
    "        context_list = [item['chunk'] for item in res_json['chunks']]\n",
    "        fact_list = [item['facts'] for item in res_json['chunks']]\n",
    "        current_summary = res_json['main_idea']\n",
    "\n",
    "        for i in range(len(context_list)):\n",
    "            for fact in fact_list[i]:\n",
    "                context_data = f\"{current_summary}\\n{context_list[i]}\"\n",
    "                embed_result = api.get_embeddings_ada(fact['fact'])\n",
    "                cursor.execute(insert_query, (context_data, fact['fact'], resource_id, embed_result, current_summary, page_num))\n",
    "        \n",
    "        conn.commit()\n",
    "        page_num+=1"
   ]
  },
  {
   "cell_type": "code",
   "execution_count": 18,
   "metadata": {},
   "outputs": [],
   "source": [
    "execute_context_prompt(pdf_path, resource_id)"
   ]
  },
  {
   "cell_type": "markdown",
   "metadata": {},
   "source": [
    "## Summary Prompt"
   ]
  },
  {
   "cell_type": "markdown",
   "metadata": {},
   "source": [
    "### Trial"
   ]
  },
  {
   "cell_type": "code",
   "execution_count": 305,
   "metadata": {},
   "outputs": [],
   "source": [
    "reader = PdfReader(pdf_path)\n",
    "for i in range(len(reader.pages)):\n",
    "    messages = [\n",
    "    {\n",
    "        \"role\": \"user\",\n",
    "        \"content\": prompting.summary_prompt(reader.pages[i].extract_text())\n",
    "    },\n",
    "    ]\n",
    "    completion = api.get_completions_gpt35(messages, 0)\n",
    "    file_name = f\"./result/summary1/BPK_A_P{i+1}.txt\"\n",
    "    with open(file_name, 'w') as f:\n",
    "        f.write(completion.choices[0].message.content)"
   ]
  },
  {
   "cell_type": "code",
   "execution_count": 242,
   "metadata": {},
   "outputs": [],
   "source": [
    "with open('./result/summary1/Tempo_P2.txt', 'r') as file:\n",
    "    current_page_text = file.read()\n",
    "current_page_json = json.loads(current_page_text)"
   ]
  },
  {
   "cell_type": "code",
   "execution_count": 28,
   "metadata": {},
   "outputs": [],
   "source": [
    "content = \"\"\"\n",
    "Penghargaan yang pernah diraih oleh BRI: The  Best Corporate - Malam Anugerah BUMN 2021; Tata Kelola Perusahaan (GCG) Terbaik 2021; Transformasi Bisnis & Organisasi Terbaik 2021; Dua insan BRILiaN Nur Arifin Akbar dan Nitia Rahmi sebagai Team Blockchain Center of Excellence (CoE) meraih penghargaan d alam ajang Silver Medal Finalist di UN World Innovation Day Hack 2022.; PT.BRI Raih Penghargaan Internasional, dalam katagori The Best ‘SME Banker of The Year’ untuk Direktur Utama BRI Sunarso dan PT.BRI sebagai ‘Best in Treasury and Working Capital – SMEs ’ dalam acara The Asset Triple A 2022.; PT.BRI meraih penghargaan dalam ajang 12th Annual Treasury & FX Awards 2022 dalam katogori Best FX Bank for Structured Products: Commodities, Credit, Equity, FX and Multi - Asset, Best FX Bank for Money Market Products , dan Best FX Bank for Retail Clients.; PT.BRI Meraih Penghargaan The Best State -Owned Enterprise in 2021 kategori Financial Listed Public Company with Asset Above Rp 15 Trillion; PT Bank Rakyat Indonesia Meraih Penghargaan LPS Banking Award 2022 kategori Bank Teraktif dalam Meningkatkan Literasi Keuangan Masyarakat\n",
    "\"\"\""
   ]
  },
  {
   "cell_type": "code",
   "execution_count": 29,
   "metadata": {},
   "outputs": [
    {
     "data": {
      "text/plain": [
       "317"
      ]
     },
     "execution_count": 29,
     "metadata": {},
     "output_type": "execute_result"
    }
   ],
   "source": [
    "prompt.count_tokens_tiktoken(content)"
   ]
  },
  {
   "cell_type": "code",
   "execution_count": null,
   "metadata": {},
   "outputs": [],
   "source": [
    "messages = [\n",
    "{\n",
    "    \"role\": \"user\",\n",
    "    \"content\": prompting.summary_prompt_rec(content)\n",
    "},\n",
    "]\n",
    "completion = api.get_completions_gpt35(messages, 0)\n",
    "file_name = f\"./result/summary1/BPK_P1_Poin3a.txt\"\n",
    "with open(file_name, 'w') as f:\n",
    "    f.write(completion.choices[0].message.content)"
   ]
  },
  {
   "cell_type": "code",
   "execution_count": 240,
   "metadata": {},
   "outputs": [
    {
     "data": {
      "text/plain": [
       "'\\n--- Page content:\\nPENDAPAT KAMIS, 5 AGUSTUS 2010 A11\\nSepak terjang jurnalis infotain-\\nmen televisi di Tanah Air telahmenjelma layaknya paparazzi\\n(jurnalis foto candid independen,\\npen) yang tiada lelah memburu\\npara selebritas untuk dijadikan beritadan mengejar siaran up to date . Cara\\nyang digunakan untuk memperoleh ba-han pemberitaan juga semakin mirip, be-rani, nekat, dan penuh kontroversi. Tidakjarang, dalam beberapa kejadian liputan,cara jurnalis infotainmen yang kejar-ha-dang tersebut menuai keberatan danprotes.\\nSetelah ditelisik lebih dalam, ternyata\\nmodel kerja jurnalisme itu lebih banyakdidorong oleh tuntutan kejar-tayang siar-an mengingat infotainmen kini menjadisalah satu program andalan bagi industriTV . Berjejalnya jam tayang infotainmen diTV , mulai pagi hingga sore, membuat stokdan suplai siaran menjadi minim. Jalansatu-satunya adalah terus memaksa jur-nalis di lapangan mengejar sumber beritakapan saja, di mana saja, apa saja, gunamendapatkan bahan pemberitaan agarmampu memenuhi jadwal tayang siaran.\\nDalam tayangan infotainmen, kita se-\\nring kali menyaksikan cara mereka mem-buntuti, mengejar, menghadang, menge-rubungi, serta memaksa selebritas untukberbicara dengan cara yang tidak lazimdan tidak etis. Tidak hanya berhenti diranah publik, mereka juga tidak seganmengejar dan mengambil gambar hinggadi wilayah privat. Cara memburu danmengambil gambar tanpa izin di wilayahprivat yang dilakukan para jurnalis info-tainmen kerap menjadi polemik dalamstudi jurnalisme saat ini, khususnya ber-kaitan dengan penghormatan terhadaphak privasi narasumber. Beberapa waktulalu, kita sempat menyaksikan tayanganinfotainmen yang diberi label eksklusifmerekam dengan jelas Aurel, anakAnang-Krisdayanti, sedang memarahimereka agar tidak mengambil gambar dirumahnya.\\nPara jurnalis infotainmen memang ta-\\nhan banting, tidak mengenal waktu, danbisa memaksa para selebritas untuk “bu-ka mulut”, kendati mereka sering meno-lak dan keberatan. Amatilah, dalam be-berapa kali liputan kasus di kepolisian,para selebritas berkali-kali memohonuntuk tidak diwawancarai dan disorotkamera terus-menerus karena mereka te-ngah mengalami kelelahan setelah men-jalani proses penyidikan yang panjangoleh pihak berwajib.\\nAlasan kelelahan ini seharusnya diteri-\\nma dan dihormati. Bagi mereka yang ti-dak pernah terlibat dalam kasus hukumdan harus menghadapi proses penyidik-an, tentu proses itu merupakan tekananyang berat. Proses penyidikan tersebuttentu menguras energi yang bisa memba-wa dampak kelelahan, baik fisik maupunpsikis. Akibatnya, mereka kerap panikdan bingung ketika harus melayani ha-dangan para jurnalis infotainmen. Tidaksedikit di antara mereka mengalami stresdan tidak mampu mengontrol diri. Ber-\\nkali-kali kita menyaksikan para selebri-tas memohon untuk tidak terus disorot,dipaksa bicara, dan dibuntuti terus-me-nerus. Namun para pekerja infotainmenbergeming dan tetap memburu para sele-britas itu ke mana pun.\\nBagi para selebritas yang mudah tersu-\\nlut emosi, potensi terjadinya benturan fi-sik dan psikis tidak terelakkan. Beberapakejadian kekerasan, seperti memaki-ma-ki, melempar benda, merusak kamera,dan benturan fisik, sangat mungkin ter-jadi. Apalagi jika menyangkut hal yangprinsip dan sensitif, seperti nasib karierdan masa depan selebritas. Di saat ber-ada dalam tekanan seperti ini, merekamudah tersulut emosi. Hal ini bisa jadisempat menimpa Ariel “Peterpan”ketikamerusak kamera yang terus-menerusberada di depan wajahnya.\\nPublik bahkan bisa menyaksikan ba-\\ngaimana ulah para jurnalis infotainmenyang kerap menonjolkan aksi kekerasanketika meliput, misalnyamenghalangi danmenggebrakmobil pa-ra sele-britasdengandalihmenjalan-kan kerjajurnalis-tik. Saat-nya jurnalisinfotainmenmenempuhcara-carayang etis seba-gaimana disa-rankan Merrilldan Lowenstein,sehingga bisa men-cegah benturan dankonflik.\\nHumanis\\nSebagai salah satu karya\\njurnalistik, infotainmen me-mang tengah mencari bentukyang ideal. Kendati hal ini masihmenjadi polemik, tidak ada sa-lahnya jika infotainmen jugamengevaluasi diri jika ingin tetapdianggap sebagai karya jurnalis-tik yang patuh kepada kaidahdan prinsip jurnalistik. Jangansekadar ingin diakui sebagai kar-ya jurnalistik, tetapi cara dan na-larnya jauh dari mandat jurnalisme.\\nPeluang untuk menjadi karya jurnalis-\\ntik tetap terbuka lebar jika pekerja info-tainmen mampu menakar karya merekasesuai dengan kepentingan publik. Padaintinya, program infotainmen di tengahtuntutan rating, share , dan industri TV\\ntetap dituntut memenuhi prinsip public’s\\nneed, public’s necessity, public’s conveni-ence, dan public’s importance .\\nTakaran terhadap muatan tayangan\\njuga harus senantiasa merujuk padaprinsip dasar tersebut, agar tayangan in-fotainmen tidak terjebak pada gosip mu-rahan. Jurnalis infotainmen patut di-ingatkan agar tidak latah mengkonstruk-si pola pikir yang aneh di masyarakatserta menerjang kepatutan dan kepan-tasan dalam batas norma agama dannorma kemasyarakatan. Ada banyak halyang mestinya tabu, akibat gosip info-tainmen, kini telah berubah menjadilumrah di masyarakat. Tren budaya nge-\\ngosip dan mengintip juga semakin heboh\\ndi masyarakat seiring dengan kemajuanteknologi komunikasi.\\nAgar tidak dicap layaknya paparazzi ,\\njurnalis TV harus mampu mengembang-kan cara kerja sesuai dengan mandatjurnalisme secara elegan. Melalui cara-cara yang humanis, elegan, etis, beradab,serta dapat dipertanggungjawabkan se-\\ncara moral dan sosial. Janganlah berle-\\nbihan mengembangkan model paparazzi\\nyang memperlakukan narasumber seba-\\ngai obyek eksploitasi semata, tetapi\\nperlakukan sebagai mitra yang\\nsaling asih, asah, dan asuh.\\nHarapannya agar in-\\nfotainmen da-\\npat menjadi program yang menghibur se-\\nkaligus mencerdaskan dan menginspirasipublik.\\nMencermati gaya, cara liputan, dan ta-\\nyangan infotainmen dalam beberapa bu-lan terakhir, khususnya sejak heboh ka-sus video porno artis, jurnalis infotain-men layak dievaluasi secara menyeluruh,khususnya berkaitan dengan cara mem-peroleh berita serta memperlakukan na-rasumber agar sesuai dengan kaidahprinsip jurnalistik dan mandat jurnalis-me yang hakiki.\\n●Paparazzi ala Jurnalis \\nInfotainmen\\nSurokim, DOSEN DEPARTEMEN KOMUNIKASI FISIB UNIJOYO, MADURAKlarifikasi dari KBRI Yangon\\nMerujuk kepada pemberitaan Koran Tempo , 19\\nJuli 2010, dengan judul ”Lima Nelayan Aceh Dipu-langkan dari Burma”, oleh Adi Warsidi, dan untukmemberikan suatu kandungan berita yang tepatkepada publik pembaca Koran Tempo , berikut ini\\nkami sampaikan hal-hal sebagai berikut:1. Keterlibatan pemerintah Uni Myanmar (atau da-\\nlam pemberitaan disebut Burma) hanya seba-tas memberikan akses kekonsuleran sertamemberikan pengampunan, karena kelima ne-layan dimaksud sesungguhnya telah dijatuhi hu-kuman dua tahun penjara, karena telah mema-suki wilayah perairan Myanmar secara ilegal.\\n2. Upaya dan proses pemulangan itu sendiri dila-\\nkukan oleh pemerintah Republik Indonesia, da-lam hal ini melalui Kedutaan Besar Republik In-donesia dan bekerja sama dengan instansi ter-kait di Indonesia (Kementerian Luar Negeri, Ke-menterian Sosial, dan Pemerintah ProvinsiNanggroe Aceh Darussalam).\\n3. Adapun upaya pendekatan (diplomasi) yang dila-\\nkukan, dalam rangka membuka akses kekonsu-leran dan pengampunan kepada kelima nelayantersebut atas hukuman yang telah dijatuhkanpengadilan Uni Myanmar, dilakukan sepenuhnyaoleh Kedutaan Besar Republik Indonesia diYangon, tanpa campur tangan pihak mana pun,termasuk LSM International Collective Supportof Fish worker (ICSF), seperti yang diberitakandalam pemberitaan surat kabar Saudara.\\nDhyasti Kalista W.N. Siregar\\nSekretaris Ketiga\\nA.n. Kepala Perwakilan RI untuk Uni Myanmar,\\nPelaksana Fungsi Penerangan & Sosial Budaya \\nKoreksi dari Keluarga Kemal Idris\\nSehubungan dengan pemberitaan wafatnya\\nayah kami, Bapak Letnan Jenderal (Purnawirawan)A. Kemal Idris pada 28 Juli 2010, sebagaimanadiberitakan di beberapa media, termasuk Koran\\nTempo tanggal 29 Juli 2010, dengan ini kami ber-\\nmaksud meluruskan informasi keikutsertaan Ba-pak Letnan Jenderal (Purnawirawan) A. Kemal Idrissebagai salah satu penandatanganan Petisi 50.\\nYang sebenarnya adalah, beliau bukanlah salah\\nsatu, dari 50 orang, penanda tangan Petisi, walau-pun sebagian dari penanda tangan Petisi tersebutadalah sahabat-sahabatnya. Pada saat dilakukanpenandatanganan Petisi tersebut, beliau sedangtidak berada di Jakarta. Demikian koreksi ini di-sampaikan, dan terima kasih yang sebesar-besar-nya atas perhatian dan penghargaan yang telah di-berikan kepada ayah kami, baik semasa hidupmaupun pada akhir hayatnya.\\nFirrouz Muzzaffar Idris\\nAtas nama keluarga A. Kemal Idris\\nTerima kasih atas penjelasan Anda.\\n–– RedaksiSURAT PEMBACA\\nSURAT DAN PENDAPAT\\n(021) 70292900\\nkoran@tempo.co.idKebayoran Center\\nBLOK A11-A15, JALAN KEBAYORAN \\nBARU, MAYESTIK, JAKARTA 12240\\n(021) 725 5645/50\\nUNTUK ARTIKEL PENDAPAT, PANJANG \\nTULISAN MAKSIMUM 6.000 KARAKTER,\\nDISERTAI FOTO DAN NOMOR TELEPON YANG DAPAT DIHU-\\nBUNGI.@✆\\nEDY WAHYONO (TEMPO)\\n\\n\\n--- Instructions:\\n\\n1. Split the page content into several chunks. Do this by going through each sentence, if current sentence has similarities with current chunk, add it to current chunk. If not, start a new chunk.\\n\\nProvide the output in the following JSON Format:\\n{\\n  \"chunks\": [\\n    {\\n      \"chunk_id\": 1,\\n      \"chunk\": \"First chunk of the article...\"\\n    },\\n    {\\n      \"chunk_id\": 2,\\n      \"chunk\": \"Second chunk of the article...\"\\n    },\\n    // ... More chunks as needed\\n  ],\\n  \"summary\": \"Combine all chunks into short summary in Indonesian language\",\\n}\\n\\n'"
      ]
     },
     "execution_count": 240,
     "metadata": {},
     "output_type": "execute_result"
    }
   ],
   "source": [
    "reader = PdfReader(pdf_path)\n",
    "prompting.summary_prompt(reader.pages[1].extract_text())"
   ]
  },
  {
   "cell_type": "markdown",
   "metadata": {},
   "source": [
    "### Implementation"
   ]
  },
  {
   "cell_type": "markdown",
   "metadata": {},
   "source": [
    "#### Function"
   ]
  },
  {
   "cell_type": "code",
   "execution_count": 8,
   "metadata": {},
   "outputs": [],
   "source": [
    "def extract_summary_fact(page):\n",
    "    messages = [\n",
    "    {\n",
    "        \"role\": \"user\",\n",
    "        \"content\": prompting.summary_prompt(page.extract_text())\n",
    "    },\n",
    "    ]\n",
    "    completion = api.get_completions_gpt35(messages, 0)\n",
    "    \n",
    "    res_json = json.loads(completion.choices[0].message.content)\n",
    "\n",
    "    fact_list = [item['chunk'] for item in res_json['chunks']]\n",
    "    current_summary = res_json['summary']\n",
    "    return fact_list, current_summary"
   ]
  },
  {
   "cell_type": "code",
   "execution_count": 9,
   "metadata": {},
   "outputs": [],
   "source": [
    "def extract_summary_fact_rec(page):\n",
    "    messages = [\n",
    "    {\n",
    "        \"role\": \"user\",\n",
    "        \"content\": prompting.summary_prompt_rec(page)\n",
    "    },\n",
    "    ]\n",
    "    completion = api.get_completions_gpt35(messages, 0)\n",
    "    \n",
    "    res_json = json.loads(completion.choices[0].message.content)\n",
    "\n",
    "    fact_list = [item['chunk'] for item in res_json['chunks']]\n",
    "    current_summary = res_json['summary']\n",
    "    return fact_list, current_summary"
   ]
  },
  {
   "cell_type": "code",
   "execution_count": 10,
   "metadata": {},
   "outputs": [],
   "source": [
    "def count_fact_length(fact_list):\n",
    "    for fact in fact_list:\n",
    "        if prompt.count_tokens_tiktoken(fact) > 400:\n",
    "            return True\n",
    "    return False"
   ]
  },
  {
   "cell_type": "code",
   "execution_count": 11,
   "metadata": {},
   "outputs": [],
   "source": [
    "def execute_summary_prompt(pdf_path, resource_id):\n",
    "    insert_query = \"\"\"\n",
    "        INSERT INTO fact (context, fact, resource_id, embeddings, summary, number)\n",
    "        VALUES (%s, %s, %s, %s, %s, %s);\n",
    "    \"\"\"\n",
    "    page_num = 1\n",
    "    reader = PdfReader(pdf_path)\n",
    "    for page in reader.pages:\n",
    "        fact_list, cur_summary = extract_summary_fact(page)\n",
    "        for f1 in fact_list:\n",
    "            if prompt.count_tokens_tiktoken(f1) > 400:\n",
    "                new_facts, new_summary = extract_summary_fact_rec(f1)\n",
    "                for f2 in new_facts:\n",
    "                    embed_result = api.get_embeddings_ada(f2)\n",
    "                    cursor.execute(insert_query, (new_summary, f2, resource_id, embed_result, cur_summary, page_num))\n",
    "                continue\n",
    "            embed_result = api.get_embeddings_ada(f1)\n",
    "            cursor.execute(insert_query, (cur_summary, f1, resource_id, embed_result, cur_summary, page_num))\n",
    "        conn.commit()\n",
    "        page_num+=1"
   ]
  },
  {
   "cell_type": "markdown",
   "metadata": {},
   "source": [
    "#### Execute"
   ]
  },
  {
   "cell_type": "code",
   "execution_count": 61,
   "metadata": {},
   "outputs": [],
   "source": [
    "execute_summary_prompt(pdf_path, resource_id)"
   ]
  },
  {
   "cell_type": "markdown",
   "metadata": {},
   "source": [
    "# Validate"
   ]
  },
  {
   "cell_type": "code",
   "execution_count": 7,
   "metadata": {},
   "outputs": [],
   "source": [
    "update_query = \"\"\"\n",
    "UPDATE resource SET status = 'ready' WHERE id = %s; \n",
    "\"\"\"\n",
    "cursor.execute(update_query, (resource_id,))\n",
    "conn.commit()\n",
    "\n",
    "# result = cursor.fetchall()\n",
    "# for res in result:\n",
    "#     print(res)"
   ]
  },
  {
   "cell_type": "code",
   "execution_count": 13,
   "metadata": {},
   "outputs": [
    {
     "name": "stdout",
     "output_type": "stream",
     "text": [
      "('Badan Pemeriksa Keuangan Republik Indonesia (BPK RI) memiliki pimpinan yang terdiri dari Ketua, Wakil Ketua, dan beberapa anggota. Tugas dan wewenang pimpinan BPK RI meliputi pemeriksaan pengelolaan dan tanggung jawab keuangan negara, pembinaan tugas, dan memberikan pengarahan pemeriksaan investigatif. Obyek, lingkup tugas, dan portofolio pimpinan BPK RI meliputi kementerian yang terkait bidang Politik, Hukum, dan Keamanan, serta kementerian yang terkait bidang Ekonomi, Keuangan, Industri, dan Perdagangan.', 'A. Pimpinan Badan Pemeriksa Keuangan Republik Indonesia (BPK RI) saat ini adalah sebagai berikut:\\nKetua BPK: Dr. Isma Yatun, CSFA., CFrA. \\nWakil Ketua BPK: Dr. Agus Joko Pramono, M.Acc., Ak., CA., CSFA., CPA., CFrA., QGIA., CGCAE.\\nAnggota I BPK: Nyoman Adhi Suryadnyana, SE., ME., M.Ak., CSFA., CertDA., CGCAE.\\nAnggota II BPK: Ir. Daniel Lumban Tobing, CSFA., CFrA.\\nAnggota III BPK: Prof. Dr. Achsanul Qosasi, CSFA., CFrA., CGCAE.\\nAnggota IV BPK: Haerul Saleh, SH., CRA., CRP., CIABV.\\nAnggota V BPK: Ir. H. Ahmadi Noor Supit, MM.\\nAnggota VI BPK: Dr. Pius Lustrilanang S.IP., M.Si., CSFA., CFrA.\\nAnggota VII BPK: Dr. Hendra Susanto, ST., M.Eng., MH., CFrA., CSFA., CIAE., CGCAE., CertDA.')\n",
      "('Badan Pemeriksa Keuangan Republik Indonesia (BPK RI) memiliki tugas dan wewenang yang dibagi antara Ketua, Wakil Ketua, dan Anggota BPK. Tugas dan wewenang Ketua BPK meliputi pemeriksaan pengelolaan keuangan negara, kelembagaan BPK, hubungan kelembagaan dalam dan luar negeri, serta pembinaan tugas beberapa direktorat dan badan. Wakil Ketua BPK bertanggung jawab atas proses Majelis Tuntutan Perbendaharaan dan memberikan pengarahan pemeriksaan investigatif. Sedangkan Anggota BPK bertugas melakukan pemeriksaan pengelolaan keuangan negara.', 'B. Tugas dan Wewenang Pimpinan Badan Pemeriksa Keuangan Republik Indonesia (BPK RI) saat ini adalah sebagai berikut:')\n",
      "('Badan Pemeriksa Keuangan Republik Indonesia (BPK RI) memiliki tugas dan wewenang yang dibagi antara Ketua, Wakil Ketua, dan Anggota BPK. Tugas dan wewenang Ketua BPK meliputi pemeriksaan pengelolaan keuangan negara, kelembagaan BPK, hubungan kelembagaan dalam dan luar negeri, serta pembinaan tugas beberapa direktorat dan badan. Wakil Ketua BPK bertanggung jawab atas proses Majelis Tuntutan Perbendaharaan dan memberikan pengarahan pemeriksaan investigatif. Sedangkan Anggota BPK bertugas melakukan pemeriksaan pengelolaan keuangan negara.', 'a. Tugas dan Wewenang Ketua BPK:\\n  i. Melaksanakan pemeriksaan pengelolaan dan tanggung jawab keuangan negara secara umum bersama dengan Wakil Ketua;\\n  ii. Melaksanakan tugas dan wewenang yang berkaitan dengan kelembagaan BPK;\\n  iii. Melaksanakan hubungan kelembagaan dalam negeri dan luar negeri;\\n  iv. Melaksanakan pembinaan tugas Sekretariat Jenderal, Direktorat Utama Perencanaan, Evaluasi, dan Pengembangan Pemeriksaan Keuangan Negara, Direktorat Utama Pembinaan dan Pengembangan Hukum Pemeriksaan Keuangan \\nNegara, Inspektorat Utama, dan Badan Pendidikan dan Pelatihan Pemeriksaan Keuangan Negara bersama dengan Wakil Ketua; dan \\n  v. Memberikan pengarahan pemeriksaan investigatif.')\n",
      "('Badan Pemeriksa Keuangan Republik Indonesia (BPK RI) memiliki Ketua, Wakil Ketua, dan Anggota I dan II yang memiliki obyek tugas pada kementerian terkait bidang Politik, Hukum, Keamanan, Ekonomi, Keuangan, Industri, dan Perdagangan. Obyek tugas Ketua dan Wakil Ketua adalah pada Pelaksana BPK dan Para Pemangku Kepentingan.', 'c. Anggota II memiliki obyek tugas pada kementerian yang terkait bidang Ekonomi, Keuangan, Industri, dan Perdagangan yang meliputi: i. Kemenko Bidang Perekonomian ii. Kementerian Keuangan (Kemenkeu) iii. Kementerian Perdagangan (Kemendag) iv. Kementerian Perindustrian (Kemenperin) v. Kementerian PPN/BAPPENAS vi. Kementerian Koperasi dan UKM vii. BKPM viii. BPS ix. Bank Indonesia  x. OJK xi. PPATK xii. PT PPA xiii. LPS xiv. BSN xv. Laporan Keuangan Pemerintah Pusat  xvi. KPPU')\n",
      "('Badan Pemeriksa Keuangan Republik Indonesia (BPK RI) memiliki tugas dan wewenang yang dibagi antara Ketua, Wakil Ketua, dan Anggota BPK. Tugas dan wewenang Ketua BPK meliputi pemeriksaan pengelolaan keuangan negara, kelembagaan BPK, hubungan kelembagaan dalam dan luar negeri, serta pembinaan tugas beberapa direktorat dan badan. Wakil Ketua BPK bertanggung jawab atas proses Majelis Tuntutan Perbendaharaan dan memberikan pengarahan pemeriksaan investigatif. Sedangkan Anggota BPK bertugas melakukan pemeriksaan pengelolaan keuangan negara.', 'b. Tugas dan wewenang Wakil Ketua BPK:\\n  i. Melaksanakan pemeriksaan pengelolaan dan tanggung jawab keuangan negara secara umum bersama dengan Ketua;\\n  ii. Melaksanakan proses Majelis Tuntutan Perbendaharaan;\\n  iii. Melaksanakan pembinaan tugas Sekretariat Jenderal, Direktorat Utama Perencanaan, Evaluasi, dan Pengembangan Pemeriksaan Keuangan Negara, Direktorat Utama Pembinaan dan Pengembangan Hukum Pemeriksaan Keuangan \\nNegara, Inspektorat Utama, dan Badan Pendidikan dan Pelatihan Pemeriksaan Keuangan Negara bersama dengan Ketua;\\n  iv. Memberikan pengarahan pemeriksaan investigatif.')\n",
      "('Badan Pemeriksa Keuangan Republik Indonesia (BPK RI) memiliki tugas dan wewenang yang dibagi antara Ketua, Wakil Ketua, dan Anggota BPK. Tugas dan wewenang Ketua BPK meliputi pemeriksaan pengelolaan keuangan negara, kelembagaan BPK, hubungan kelembagaan dalam dan luar negeri, serta pembinaan tugas beberapa direktorat dan badan. Wakil Ketua BPK bertanggung jawab atas proses Majelis Tuntutan Perbendaharaan dan memberikan pengarahan pemeriksaan investigatif. Sedangkan Anggota BPK bertugas melakukan pemeriksaan pengelolaan keuangan negara.', 'c. Tugas dan Wewenang Anggota BPK:\\n  i. Melaksanakan pemeriksaan pengelolaan dan tanggung jawab keuangan negara')\n",
      "('Badan Pemeriksa Keuangan Republik Indonesia (BPK RI) memiliki Ketua, Wakil Ketua, dan Anggota I dan II yang memiliki obyek tugas pada kementerian terkait bidang Politik, Hukum, Keamanan, Ekonomi, Keuangan, Industri, dan Perdagangan. Obyek tugas Ketua dan Wakil Ketua adalah pada Pelaksana BPK dan Para Pemangku Kepentingan.', 'C. Obyek, Lingkup Tugas, dan Portofolio Pimpinan Badan Pemeriksa Keuangan Republik Indonesia (BPK RI) saat ini adalah sebagai berikut:')\n",
      "('Badan Pemeriksa Keuangan Republik Indonesia (BPK RI) memiliki Ketua, Wakil Ketua, dan Anggota I dan II yang memiliki obyek tugas pada kementerian terkait bidang Politik, Hukum, Keamanan, Ekonomi, Keuangan, Industri, dan Perdagangan. Obyek tugas Ketua dan Wakil Ketua adalah pada Pelaksana BPK dan Para Pemangku Kepentingan.', 'a. Ketua dan Wakil Ketua memiliki obyek tugas pada Pelaksana BPK dan Para Pemangku Kepentingan')\n",
      "('Badan Pemeriksa Keuangan Republik Indonesia (BPK RI) memiliki Ketua, Wakil Ketua, dan Anggota I dan II yang memiliki obyek tugas pada kementerian terkait bidang Politik, Hukum, Keamanan, Ekonomi, Keuangan, Industri, dan Perdagangan. Obyek tugas Ketua dan Wakil Ketua adalah pada Pelaksana BPK dan Para Pemangku Kepentingan.', 'b. Anggota I memiliki obyek tugas pada kementerian yang terkait bidang Politik, Hukum, dan Keamanan yang meliputi: i. Kementerian Koordinator Bidang Politik, Hukum, dan Keamanan (Kemenko Polhukam) ii. Kementerian Luar Negeri (Kemenlu) iii. Kementerian Hukum dan HAM (Kemenkumham) iv. Kementerian Pertahanan (Kemenhan) v. Kementerian Perhubungan (Kemenhub) vi. Kejaksaan RI vii. Kepolisian Negara Indonesia (POLRI) viii. Badan Intelijen Negara (BIN) ix. Badan Nasional Narkotika (BNN) x. Badan Metrologi dan Geofisika (BMKG) xi. Lembaga Petahanan Nasional (Lemhanas) xii. Dewan Ketahanan Nasional (Wantanas) xiii. Badan Siber dan Sandi Negara (BSSN) xiv. Komisi Nasional HAM (Komnas HAM) xv. Komisi Pemberantasan Korupsi (KPK) xvi. Komisi Pemilihan Umum (KPU) xvii. Badan SAR Nasional (Basarnas) xviii. Badan Nasional Penanggulangan Teroris (BNPT) xix. Badan Pengawas Pemilu (Bawaslu) xx. Badan Keamanan Laut (Bakamla)')\n"
     ]
    }
   ],
   "source": [
    "select_query = \"\"\"\n",
    "SELECT context,fact FROM fact WHERE resource_id = %s and number = 1; \n",
    "\"\"\"\n",
    "cursor.execute(select_query, (resource_id,))\n",
    "\n",
    "result = cursor.fetchall()\n",
    "for res in result:\n",
    "    print(res)"
   ]
  },
  {
   "cell_type": "code",
   "execution_count": 178,
   "metadata": {},
   "outputs": [],
   "source": [
    "conn.rollback()"
   ]
  }
 ],
 "metadata": {
  "kernelspec": {
   "display_name": "Python 3",
   "language": "python",
   "name": "python3"
  },
  "language_info": {
   "codemirror_mode": {
    "name": "ipython",
    "version": 3
   },
   "file_extension": ".py",
   "mimetype": "text/x-python",
   "name": "python",
   "nbconvert_exporter": "python",
   "pygments_lexer": "ipython3",
   "version": "3.11.7"
  }
 },
 "nbformat": 4,
 "nbformat_minor": 2
}
