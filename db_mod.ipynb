{
 "cells": [
  {
   "cell_type": "code",
   "execution_count": 1,
   "metadata": {},
   "outputs": [],
   "source": [
    "import os\n",
    "import psycopg2\n",
    "import json\n",
    "\n",
    "from dotenv import load_dotenv\n",
    "\n",
    "from pgvector.psycopg2 import register_vector\n",
    "\n",
    "from importlib import reload\n",
    "from utils import db, prompting, api, prompt\n",
    "\n",
    "from pypdf import PdfReader\n",
    "\n",
    "load_dotenv()\n",
    "\n",
    "conn = psycopg2.connect(os.getenv(\"POSTGRES_CONFIG\"))\n",
    "register_vector(conn)\n",
    "cursor = conn.cursor()"
   ]
  },
  {
   "cell_type": "code",
   "execution_count": 2,
   "metadata": {},
   "outputs": [
    {
     "data": {
      "text/plain": [
       "<module 'utils.prompting' from '/Volumes/Personal/Work/Feedloop/fact_ext/from_github/AI-Research/utils/prompting.py'>"
      ]
     },
     "execution_count": 2,
     "metadata": {},
     "output_type": "execute_result"
    }
   ],
   "source": [
    "reload(prompt)\n",
    "reload(api)\n",
    "reload(db)\n",
    "reload(prompting)"
   ]
  },
  {
   "cell_type": "code",
   "execution_count": 58,
   "metadata": {},
   "outputs": [],
   "source": [
    "pdf_path = \"./pdfs/Coffee_and_health - summary_fact.pdf\"\n",
    "user_language = \"English\""
   ]
  },
  {
   "cell_type": "code",
   "execution_count": 59,
   "metadata": {},
   "outputs": [
    {
     "name": "stdout",
     "output_type": "stream",
     "text": [
      "f35f69dc-1889-4dde-b6dd-b6351ec98a93\n"
     ]
    }
   ],
   "source": [
    "resource_id = db.get_resource_id(cursor, \"Coffee_and_health - summary_fact\")\n",
    "print(resource_id)"
   ]
  },
  {
   "cell_type": "code",
   "execution_count": 62,
   "metadata": {},
   "outputs": [
    {
     "name": "stdout",
     "output_type": "stream",
     "text": [
      "(0,)\n"
     ]
    }
   ],
   "source": [
    "fact_count = db.count_facts_resource(cursor, resource_id)\n",
    "print(fact_count)"
   ]
  },
  {
   "cell_type": "code",
   "execution_count": 61,
   "metadata": {},
   "outputs": [],
   "source": [
    "db.delete_facts_resource(conn, cursor, resource_id)"
   ]
  },
  {
   "cell_type": "markdown",
   "metadata": {},
   "source": [
    "# Write to DB"
   ]
  },
  {
   "cell_type": "markdown",
   "metadata": {},
   "source": [
    "## Fragment Prompt"
   ]
  },
  {
   "cell_type": "code",
   "execution_count": 23,
   "metadata": {},
   "outputs": [],
   "source": [
    "def execute_fragment_prompt(pdf_path, resource_id, user_language):\n",
    "    reader = PdfReader(pdf_path)\n",
    "    insert_query = \"\"\"\n",
    "        INSERT INTO fact (context, fact, resource_id, embeddings, summary, number)\n",
    "        VALUES (%s, %s, %s, %s, %s, %s);\n",
    "        \"\"\"\n",
    "    page_num = 1\n",
    "    cur_summary = \"\"\n",
    "    for page in reader.pages:\n",
    "        messages = [\n",
    "        {\n",
    "            \"role\": \"user\",\n",
    "            \"content\": prompting.fragment_prompt(page.extract_text(), cur_summary, user_language)\n",
    "        },\n",
    "        ]\n",
    "        completion = api.get_completions_gpt35(messages, 0)\n",
    "        res_json = json.loads(completion.choices[0].message.content)\n",
    "\n",
    "        context_list = [item['topic'] for item in res_json['fragments']]\n",
    "        fact_list = [item['fragment'] for item in res_json['fragments']]\n",
    "        cur_summary = res_json['docSummary']\n",
    "\n",
    "        for i in range(len(fact_list)):\n",
    "            embed_result = api.get_embeddings_ada(fact_list[i])\n",
    "            cursor.execute(insert_query, (context_list[i], fact_list[i], resource_id, embed_result, cur_summary, page_num))\n",
    "        \n",
    "        conn.commit()\n",
    "        page_num+=1"
   ]
  },
  {
   "cell_type": "code",
   "execution_count": 24,
   "metadata": {},
   "outputs": [],
   "source": [
    "execute_fragment_prompt(pdf_path, resource_id, user_language)"
   ]
  },
  {
   "cell_type": "markdown",
   "metadata": {},
   "source": [
    "## Fact New Prompt"
   ]
  },
  {
   "cell_type": "code",
   "execution_count": 3,
   "metadata": {},
   "outputs": [],
   "source": [
    "test_text = \"\"\"--- Document Data:\\nCurrent document summary: \\nCurrent page content: 1\\nS\\ni\\nm\\np\\na\\nn\\na\\nn\\n:\\nB\\nR\\nI\\nm\\ne\\nm\\ni\\nl\\ni\\nk\\ni\\n3\\np\\nr\\no\\nd\\nu\\nk\\nS\\ni\\nm\\np\\na\\nn\\na\\nn\\ny\\na\\nn\\ng\\nd\\na\\np\\na\\nt\\nk\\na\\nm\\nu\\np\\ni\\nl\\ni\\nh\\n,\\ny\\na\\ni\\nt\\nu\\nT\\na\\nb\\nu\\nn\\ng\\na\\nn\\n,\\nD\\ne\\np\\no\\ns\\ni\\nt\\no\\n,\\nd\\na\\nn\\nG\\ni\\nr\\no\\nB\\nR\\nI\\np\\nr\\no\\nd\\nu\\nc\\nt\\n1\\n:\\nB\\nr\\ni\\nt\\na\\nm\\na\\nB\\ni\\ns\\nn\\ni\\ns\\n-\\nJ\\ne\\nn\\ni\\ns\\n:\\nS\\ni\\nm\\np\\na\\nn\\na\\nn\\n-\\nD\\ne\\ns\\nk\\nr\\ni\\np\\ns\\ni\\n:\\nU\\nn\\nt\\nu\\nk\\nm\\ne\\nm\\ne\\nn\\nu\\nh\\ni\\nk\\ne\\nb\\nu\\nt\\nu\\nh\\na\\nn\\nb\\ni\\ns\\nn\\ni\\ns\\nm\\nu\\n,\\nB\\nR\\nI\\nm\\ne\\nn\\na\\nw\\na\\nr\\nk\\na\\nn\\nt\\na\\nb\\nu\\nn\\ng\\na\\nn\\nB\\nr\\ni\\nt\\na\\nm\\na\\nB\\ni\\ns\\nn\\ni\\ns\\n.\\nB\\nr\\ni\\nt\\na\\nm\\na\\nB\\ni\\ns\\nn\\ni\\ns\\na\\nd\\na\\nl\\na\\nh\\nt\\na\\nb\\nu\\nn\\ng\\na\\nn\\nu\\nn\\nt\\nu\\nk\\nm\\ne\\nn\\nu\\nn\\nj\\na\\nn\\ng\\nt\\nr\\na\\nn\\ns\\na\\nk\\ns\\ni\\nk\\ne\\nb\\nu\\nt\\nu\\nh\\na\\nn\\nb\\ni\\ns\\nn\\ni\\ns\\nm\\nu\\n.\\n-\\nF\\ni\\nt\\nu\\nr\\n:\\nF\\ni\\nt\\nu\\nr\\nu\\nn\\ng\\ng\\nu\\nl\\na\\nn\\nB\\nr\\ni\\nt\\na\\nm\\na\\nB\\ni\\ns\\nn\\ni\\ns\\n:\\n1\\n.\\nP\\ne\\nn\\nc\\na\\nt\\na\\nt\\na\\nn\\nt\\nr\\na\\nn\\ns\\na\\nk\\ns\\ni\\nl\\ne\\nb\\ni\\nh\\nd\\ne\\nt\\na\\ni\\nl\\n;\\n2\\n.\\nG\\nr\\na\\nt\\ni\\ns\\na\\ns\\nu\\nr\\na\\nn\\ns\\ni\\nk\\ne\\nc\\ne\\nl\\na\\nk\\na\\na\\nn\\nh\\ni\\nn\\ng\\ng\\na\\nR\\np\\n1\\n5\\n0\\n.\\n0\\n0\\n0\\n.\\n0\\n0\\n0\\n,\\n-\\n;\\n3\\n.\\nA\\nk\\ns\\ne\\ns\\ni\\nb\\ni\\nl\\ni\\nt\\na\\ns\\nK\\na\\nr\\nt\\nu\\nD\\ne\\nb\\ni\\nt\\nB\\nR\\nI\\nd\\ni\\nj\\na\\nr\\ni\\nn\\ng\\na\\nn\\nB\\nR\\nI\\n,\\nA\\nT\\nM\\nB\\ne\\nr\\ns\\na\\nm\\na\\n,\\nL\\ni\\nn\\nk\\n,\\nP\\nr\\ni\\nm\\na\\n,\\nC\\ni\\nr\\nr\\nu\\ns\\n,\\nM\\na\\ne\\ns\\nt\\nr\\no\\nd\\na\\nn\\nM\\na\\ns\\nt\\ne\\nr\\nC\\na\\nr\\nd\\nb\\na\\ni\\nk\\nd\\ni\\nd\\na\\nl\\na\\nm\\nm\\na\\nu\\np\\nu\\nn\\nd\\ni\\nl\\nu\\na\\nr\\nn\\ne\\ng\\ne\\nr\\ni\\n;\\n4\\n.\\nL\\ni\\nm\\ni\\nt\\nt\\nr\\na\\nn\\ns\\na\\nk\\ns\\ni\\nm\\ne\\nn\\nc\\na\\np\\na\\ni\\nR\\np\\n1\\n.\\n0\\n0\\n0\\n.\\n0\\n0\\n0\\n.\\n0\\n0\\n0\\n,\\n-\\n;\\n5\\n.\\nF\\na\\ns\\ni\\nl\\ni\\nt\\na\\ns\\nt\\nr\\na\\nn\\ns\\na\\nk\\ns\\ni\\no\\nt\\no\\nm\\na\\nt\\ni\\ns\\n-\\nC\\na\\nr\\na\\np\\ne\\nm\\nb\\nu\\nk\\na\\na\\nn\\nr\\ne\\nk\\ne\\nn\\ni\\nn\\ng\\nb\\na\\nr\\nu\\n:\\nK\\na\\nm\\nu\\nb\\ni\\ns\\na\\nm\\ne\\nm\\nb\\nu\\nk\\na\\nr\\ne\\n\\n--- Instructions:\\n1. Extract all facts from current page\\n2. Output as following JSON format in  in indonesia languages\\n{\\n  \\\"facts\\\": <{\\\"fact\\\": string, \\\"context\\\":<what is this fact about>}[]>\\n  \\\"docSummary\\\": \\\"<resummarize the document by combining previous page summary and current page content>\\\"\\n  \\\"context\\\": <create maximum 50 words description about the document based on docSummary>\\n}\"\"\""
   ]
  },
  {
   "cell_type": "code",
   "execution_count": 4,
   "metadata": {},
   "outputs": [],
   "source": [
    "messages = [\n",
    "    {\n",
    "        \"role\": \"user\",\n",
    "        \"content\": test_text\n",
    "    },\n",
    "]\n",
    "completion = api.get_completions_gpt35(messages, 0)\n",
    "file_name = f\"./result/summary1/random_test1.txt\"\n",
    "with open(file_name, 'w') as f:\n",
    "    f.write(completion.choices[0].message.content)"
   ]
  },
  {
   "cell_type": "code",
   "execution_count": 5,
   "metadata": {},
   "outputs": [],
   "source": [
    "file_prompt = f\"./result/summary1/random_prompt.txt\"\n",
    "with open(file_prompt, 'w') as f:\n",
    "    f.write(test_text)"
   ]
  },
  {
   "cell_type": "code",
   "execution_count": 17,
   "metadata": {},
   "outputs": [],
   "source": [
    "def execute_fact_prompt(pdf_path, resource_id, user_language):\n",
    "    reader = PdfReader(pdf_path)\n",
    "    insert_query = \"\"\"\n",
    "        INSERT INTO fact (context, fact, resource_id, embeddings, summary, number)\n",
    "        VALUES (%s, %s, %s, %s, %s, %s);\n",
    "        \"\"\"\n",
    "    page_num = 1\n",
    "    cur_summary = \"\"\n",
    "    for page in reader.pages:\n",
    "        messages = [\n",
    "        {\n",
    "            \"role\": \"user\",\n",
    "            \"content\": prompting.fact_prompt(page.extract_text(), cur_summary, user_language)\n",
    "        },\n",
    "        ]\n",
    "        completion = api.get_completions_gpt35(messages, 0)\n",
    "        res_json = json.loads(completion.choices[0].message.content)\n",
    "\n",
    "        context_list = [item['context'] for item in res_json['facts']]\n",
    "        fact_list = [item['fact'] for item in res_json['facts']]\n",
    "        cur_summary = res_json['docSummary']\n",
    "\n",
    "        for i in range(len(fact_list)):\n",
    "            embed_result = api.get_embeddings_ada(fact_list[i])\n",
    "            cursor.execute(insert_query, (context_list[i], fact_list[i], resource_id, embed_result, cur_summary, page_num))\n",
    "        \n",
    "        conn.commit()\n",
    "        page_num+=1"
   ]
  },
  {
   "cell_type": "code",
   "execution_count": 18,
   "metadata": {},
   "outputs": [],
   "source": [
    "execute_fact_prompt(pdf_path, resource_id, user_language)"
   ]
  },
  {
   "cell_type": "markdown",
   "metadata": {},
   "source": [
    "## Context Prompt"
   ]
  },
  {
   "cell_type": "code",
   "execution_count": 29,
   "metadata": {},
   "outputs": [],
   "source": [
    "def execute_context_prompt(pdf_path, resource_id, user_language):\n",
    "    reader = PdfReader(pdf_path)\n",
    "    insert_query = \"\"\"\n",
    "        INSERT INTO fact (context, fact, resource_id, embeddings, summary, number)\n",
    "        VALUES (%s, %s, %s, %s, %s, %s);\n",
    "        \"\"\"\n",
    "    page_num = 1\n",
    "    for page in reader.pages:\n",
    "        messages = [\n",
    "        {\n",
    "            \"role\": \"user\",\n",
    "            \"content\": prompting.context_prompt(page.extract_text(), user_language)\n",
    "        },\n",
    "        ]\n",
    "        completion = api.get_completions_gpt35(messages, 0)\n",
    "        res_json = json.loads(completion.choices[0].message.content)\n",
    "\n",
    "        context_list = [item['chunk'] for item in res_json['chunks']]\n",
    "        fact_list = [item['facts'] for item in res_json['chunks']]\n",
    "        current_summary = res_json['main_idea']\n",
    "\n",
    "        for i in range(len(context_list)):\n",
    "            for fact in fact_list[i]:\n",
    "                context_data = f\"{current_summary}\\n{context_list[i]}\"\n",
    "                embed_result = api.get_embeddings_ada(fact['fact'])\n",
    "                cursor.execute(insert_query, (context_data, fact['fact'], resource_id, embed_result, current_summary, page_num))\n",
    "        \n",
    "        conn.commit()\n",
    "        page_num+=1"
   ]
  },
  {
   "cell_type": "code",
   "execution_count": 30,
   "metadata": {},
   "outputs": [],
   "source": [
    "execute_context_prompt(pdf_path, resource_id, user_language)"
   ]
  },
  {
   "cell_type": "markdown",
   "metadata": {},
   "source": [
    "## Summary Prompt"
   ]
  },
  {
   "cell_type": "markdown",
   "metadata": {},
   "source": [
    "### Trial"
   ]
  },
  {
   "cell_type": "code",
   "execution_count": 305,
   "metadata": {},
   "outputs": [],
   "source": [
    "reader = PdfReader(pdf_path)\n",
    "for i in range(len(reader.pages)):\n",
    "    messages = [\n",
    "    {\n",
    "        \"role\": \"user\",\n",
    "        \"content\": prompting.summary_prompt(reader.pages[i].extract_text())\n",
    "    },\n",
    "    ]\n",
    "    completion = api.get_completions_gpt35(messages, 0)\n",
    "    file_name = f\"./result/summary1/BPK_A_P{i+1}.txt\"\n",
    "    with open(file_name, 'w') as f:\n",
    "        f.write(completion.choices[0].message.content)"
   ]
  },
  {
   "cell_type": "code",
   "execution_count": 242,
   "metadata": {},
   "outputs": [],
   "source": [
    "with open('./result/summary1/Tempo_P2.txt', 'r') as file:\n",
    "    current_page_text = file.read()\n",
    "current_page_json = json.loads(current_page_text)"
   ]
  },
  {
   "cell_type": "code",
   "execution_count": 28,
   "metadata": {},
   "outputs": [],
   "source": [
    "content = \"\"\"\n",
    "Penghargaan yang pernah diraih oleh BRI: The  Best Corporate - Malam Anugerah BUMN 2021; Tata Kelola Perusahaan (GCG) Terbaik 2021; Transformasi Bisnis & Organisasi Terbaik 2021; Dua insan BRILiaN Nur Arifin Akbar dan Nitia Rahmi sebagai Team Blockchain Center of Excellence (CoE) meraih penghargaan d alam ajang Silver Medal Finalist di UN World Innovation Day Hack 2022.; PT.BRI Raih Penghargaan Internasional, dalam katagori The Best ‘SME Banker of The Year’ untuk Direktur Utama BRI Sunarso dan PT.BRI sebagai ‘Best in Treasury and Working Capital – SMEs ’ dalam acara The Asset Triple A 2022.; PT.BRI meraih penghargaan dalam ajang 12th Annual Treasury & FX Awards 2022 dalam katogori Best FX Bank for Structured Products: Commodities, Credit, Equity, FX and Multi - Asset, Best FX Bank for Money Market Products , dan Best FX Bank for Retail Clients.; PT.BRI Meraih Penghargaan The Best State -Owned Enterprise in 2021 kategori Financial Listed Public Company with Asset Above Rp 15 Trillion; PT Bank Rakyat Indonesia Meraih Penghargaan LPS Banking Award 2022 kategori Bank Teraktif dalam Meningkatkan Literasi Keuangan Masyarakat\n",
    "\"\"\""
   ]
  },
  {
   "cell_type": "code",
   "execution_count": 29,
   "metadata": {},
   "outputs": [
    {
     "data": {
      "text/plain": [
       "317"
      ]
     },
     "execution_count": 29,
     "metadata": {},
     "output_type": "execute_result"
    }
   ],
   "source": [
    "prompt.count_tokens_tiktoken(content)"
   ]
  },
  {
   "cell_type": "code",
   "execution_count": null,
   "metadata": {},
   "outputs": [],
   "source": [
    "messages = [\n",
    "{\n",
    "    \"role\": \"user\",\n",
    "    \"content\": prompting.summary_prompt_rec(content)\n",
    "},\n",
    "]\n",
    "completion = api.get_completions_gpt35(messages, 0)\n",
    "file_name = f\"./result/summary1/BPK_P1_Poin3a.txt\"\n",
    "with open(file_name, 'w') as f:\n",
    "    f.write(completion.choices[0].message.content)"
   ]
  },
  {
   "cell_type": "code",
   "execution_count": 240,
   "metadata": {},
   "outputs": [
    {
     "data": {
      "text/plain": [
       "'\\n--- Page content:\\nPENDAPAT KAMIS, 5 AGUSTUS 2010 A11\\nSepak terjang jurnalis infotain-\\nmen televisi di Tanah Air telahmenjelma layaknya paparazzi\\n(jurnalis foto candid independen,\\npen) yang tiada lelah memburu\\npara selebritas untuk dijadikan beritadan mengejar siaran up to date . Cara\\nyang digunakan untuk memperoleh ba-han pemberitaan juga semakin mirip, be-rani, nekat, dan penuh kontroversi. Tidakjarang, dalam beberapa kejadian liputan,cara jurnalis infotainmen yang kejar-ha-dang tersebut menuai keberatan danprotes.\\nSetelah ditelisik lebih dalam, ternyata\\nmodel kerja jurnalisme itu lebih banyakdidorong oleh tuntutan kejar-tayang siar-an mengingat infotainmen kini menjadisalah satu program andalan bagi industriTV . Berjejalnya jam tayang infotainmen diTV , mulai pagi hingga sore, membuat stokdan suplai siaran menjadi minim. Jalansatu-satunya adalah terus memaksa jur-nalis di lapangan mengejar sumber beritakapan saja, di mana saja, apa saja, gunamendapatkan bahan pemberitaan agarmampu memenuhi jadwal tayang siaran.\\nDalam tayangan infotainmen, kita se-\\nring kali menyaksikan cara mereka mem-buntuti, mengejar, menghadang, menge-rubungi, serta memaksa selebritas untukberbicara dengan cara yang tidak lazimdan tidak etis. Tidak hanya berhenti diranah publik, mereka juga tidak seganmengejar dan mengambil gambar hinggadi wilayah privat. Cara memburu danmengambil gambar tanpa izin di wilayahprivat yang dilakukan para jurnalis info-tainmen kerap menjadi polemik dalamstudi jurnalisme saat ini, khususnya ber-kaitan dengan penghormatan terhadaphak privasi narasumber. Beberapa waktulalu, kita sempat menyaksikan tayanganinfotainmen yang diberi label eksklusifmerekam dengan jelas Aurel, anakAnang-Krisdayanti, sedang memarahimereka agar tidak mengambil gambar dirumahnya.\\nPara jurnalis infotainmen memang ta-\\nhan banting, tidak mengenal waktu, danbisa memaksa para selebritas untuk “bu-ka mulut”, kendati mereka sering meno-lak dan keberatan. Amatilah, dalam be-berapa kali liputan kasus di kepolisian,para selebritas berkali-kali memohonuntuk tidak diwawancarai dan disorotkamera terus-menerus karena mereka te-ngah mengalami kelelahan setelah men-jalani proses penyidikan yang panjangoleh pihak berwajib.\\nAlasan kelelahan ini seharusnya diteri-\\nma dan dihormati. Bagi mereka yang ti-dak pernah terlibat dalam kasus hukumdan harus menghadapi proses penyidik-an, tentu proses itu merupakan tekananyang berat. Proses penyidikan tersebuttentu menguras energi yang bisa memba-wa dampak kelelahan, baik fisik maupunpsikis. Akibatnya, mereka kerap panikdan bingung ketika harus melayani ha-dangan para jurnalis infotainmen. Tidaksedikit di antara mereka mengalami stresdan tidak mampu mengontrol diri. Ber-\\nkali-kali kita menyaksikan para selebri-tas memohon untuk tidak terus disorot,dipaksa bicara, dan dibuntuti terus-me-nerus. Namun para pekerja infotainmenbergeming dan tetap memburu para sele-britas itu ke mana pun.\\nBagi para selebritas yang mudah tersu-\\nlut emosi, potensi terjadinya benturan fi-sik dan psikis tidak terelakkan. Beberapakejadian kekerasan, seperti memaki-ma-ki, melempar benda, merusak kamera,dan benturan fisik, sangat mungkin ter-jadi. Apalagi jika menyangkut hal yangprinsip dan sensitif, seperti nasib karierdan masa depan selebritas. Di saat ber-ada dalam tekanan seperti ini, merekamudah tersulut emosi. Hal ini bisa jadisempat menimpa Ariel “Peterpan”ketikamerusak kamera yang terus-menerusberada di depan wajahnya.\\nPublik bahkan bisa menyaksikan ba-\\ngaimana ulah para jurnalis infotainmenyang kerap menonjolkan aksi kekerasanketika meliput, misalnyamenghalangi danmenggebrakmobil pa-ra sele-britasdengandalihmenjalan-kan kerjajurnalis-tik. Saat-nya jurnalisinfotainmenmenempuhcara-carayang etis seba-gaimana disa-rankan Merrilldan Lowenstein,sehingga bisa men-cegah benturan dankonflik.\\nHumanis\\nSebagai salah satu karya\\njurnalistik, infotainmen me-mang tengah mencari bentukyang ideal. Kendati hal ini masihmenjadi polemik, tidak ada sa-lahnya jika infotainmen jugamengevaluasi diri jika ingin tetapdianggap sebagai karya jurnalis-tik yang patuh kepada kaidahdan prinsip jurnalistik. Jangansekadar ingin diakui sebagai kar-ya jurnalistik, tetapi cara dan na-larnya jauh dari mandat jurnalisme.\\nPeluang untuk menjadi karya jurnalis-\\ntik tetap terbuka lebar jika pekerja info-tainmen mampu menakar karya merekasesuai dengan kepentingan publik. Padaintinya, program infotainmen di tengahtuntutan rating, share , dan industri TV\\ntetap dituntut memenuhi prinsip public’s\\nneed, public’s necessity, public’s conveni-ence, dan public’s importance .\\nTakaran terhadap muatan tayangan\\njuga harus senantiasa merujuk padaprinsip dasar tersebut, agar tayangan in-fotainmen tidak terjebak pada gosip mu-rahan. Jurnalis infotainmen patut di-ingatkan agar tidak latah mengkonstruk-si pola pikir yang aneh di masyarakatserta menerjang kepatutan dan kepan-tasan dalam batas norma agama dannorma kemasyarakatan. Ada banyak halyang mestinya tabu, akibat gosip info-tainmen, kini telah berubah menjadilumrah di masyarakat. Tren budaya nge-\\ngosip dan mengintip juga semakin heboh\\ndi masyarakat seiring dengan kemajuanteknologi komunikasi.\\nAgar tidak dicap layaknya paparazzi ,\\njurnalis TV harus mampu mengembang-kan cara kerja sesuai dengan mandatjurnalisme secara elegan. Melalui cara-cara yang humanis, elegan, etis, beradab,serta dapat dipertanggungjawabkan se-\\ncara moral dan sosial. Janganlah berle-\\nbihan mengembangkan model paparazzi\\nyang memperlakukan narasumber seba-\\ngai obyek eksploitasi semata, tetapi\\nperlakukan sebagai mitra yang\\nsaling asih, asah, dan asuh.\\nHarapannya agar in-\\nfotainmen da-\\npat menjadi program yang menghibur se-\\nkaligus mencerdaskan dan menginspirasipublik.\\nMencermati gaya, cara liputan, dan ta-\\nyangan infotainmen dalam beberapa bu-lan terakhir, khususnya sejak heboh ka-sus video porno artis, jurnalis infotain-men layak dievaluasi secara menyeluruh,khususnya berkaitan dengan cara mem-peroleh berita serta memperlakukan na-rasumber agar sesuai dengan kaidahprinsip jurnalistik dan mandat jurnalis-me yang hakiki.\\n●Paparazzi ala Jurnalis \\nInfotainmen\\nSurokim, DOSEN DEPARTEMEN KOMUNIKASI FISIB UNIJOYO, MADURAKlarifikasi dari KBRI Yangon\\nMerujuk kepada pemberitaan Koran Tempo , 19\\nJuli 2010, dengan judul ”Lima Nelayan Aceh Dipu-langkan dari Burma”, oleh Adi Warsidi, dan untukmemberikan suatu kandungan berita yang tepatkepada publik pembaca Koran Tempo , berikut ini\\nkami sampaikan hal-hal sebagai berikut:1. Keterlibatan pemerintah Uni Myanmar (atau da-\\nlam pemberitaan disebut Burma) hanya seba-tas memberikan akses kekonsuleran sertamemberikan pengampunan, karena kelima ne-layan dimaksud sesungguhnya telah dijatuhi hu-kuman dua tahun penjara, karena telah mema-suki wilayah perairan Myanmar secara ilegal.\\n2. Upaya dan proses pemulangan itu sendiri dila-\\nkukan oleh pemerintah Republik Indonesia, da-lam hal ini melalui Kedutaan Besar Republik In-donesia dan bekerja sama dengan instansi ter-kait di Indonesia (Kementerian Luar Negeri, Ke-menterian Sosial, dan Pemerintah ProvinsiNanggroe Aceh Darussalam).\\n3. Adapun upaya pendekatan (diplomasi) yang dila-\\nkukan, dalam rangka membuka akses kekonsu-leran dan pengampunan kepada kelima nelayantersebut atas hukuman yang telah dijatuhkanpengadilan Uni Myanmar, dilakukan sepenuhnyaoleh Kedutaan Besar Republik Indonesia diYangon, tanpa campur tangan pihak mana pun,termasuk LSM International Collective Supportof Fish worker (ICSF), seperti yang diberitakandalam pemberitaan surat kabar Saudara.\\nDhyasti Kalista W.N. Siregar\\nSekretaris Ketiga\\nA.n. Kepala Perwakilan RI untuk Uni Myanmar,\\nPelaksana Fungsi Penerangan & Sosial Budaya \\nKoreksi dari Keluarga Kemal Idris\\nSehubungan dengan pemberitaan wafatnya\\nayah kami, Bapak Letnan Jenderal (Purnawirawan)A. Kemal Idris pada 28 Juli 2010, sebagaimanadiberitakan di beberapa media, termasuk Koran\\nTempo tanggal 29 Juli 2010, dengan ini kami ber-\\nmaksud meluruskan informasi keikutsertaan Ba-pak Letnan Jenderal (Purnawirawan) A. Kemal Idrissebagai salah satu penandatanganan Petisi 50.\\nYang sebenarnya adalah, beliau bukanlah salah\\nsatu, dari 50 orang, penanda tangan Petisi, walau-pun sebagian dari penanda tangan Petisi tersebutadalah sahabat-sahabatnya. Pada saat dilakukanpenandatanganan Petisi tersebut, beliau sedangtidak berada di Jakarta. Demikian koreksi ini di-sampaikan, dan terima kasih yang sebesar-besar-nya atas perhatian dan penghargaan yang telah di-berikan kepada ayah kami, baik semasa hidupmaupun pada akhir hayatnya.\\nFirrouz Muzzaffar Idris\\nAtas nama keluarga A. Kemal Idris\\nTerima kasih atas penjelasan Anda.\\n–– RedaksiSURAT PEMBACA\\nSURAT DAN PENDAPAT\\n(021) 70292900\\nkoran@tempo.co.idKebayoran Center\\nBLOK A11-A15, JALAN KEBAYORAN \\nBARU, MAYESTIK, JAKARTA 12240\\n(021) 725 5645/50\\nUNTUK ARTIKEL PENDAPAT, PANJANG \\nTULISAN MAKSIMUM 6.000 KARAKTER,\\nDISERTAI FOTO DAN NOMOR TELEPON YANG DAPAT DIHU-\\nBUNGI.@✆\\nEDY WAHYONO (TEMPO)\\n\\n\\n--- Instructions:\\n\\n1. Split the page content into several chunks. Do this by going through each sentence, if current sentence has similarities with current chunk, add it to current chunk. If not, start a new chunk.\\n\\nProvide the output in the following JSON Format:\\n{\\n  \"chunks\": [\\n    {\\n      \"chunk_id\": 1,\\n      \"chunk\": \"First chunk of the article...\"\\n    },\\n    {\\n      \"chunk_id\": 2,\\n      \"chunk\": \"Second chunk of the article...\"\\n    },\\n    // ... More chunks as needed\\n  ],\\n  \"summary\": \"Combine all chunks into short summary in Indonesian language\",\\n}\\n\\n'"
      ]
     },
     "execution_count": 240,
     "metadata": {},
     "output_type": "execute_result"
    }
   ],
   "source": [
    "reader = PdfReader(pdf_path)\n",
    "prompting.summary_prompt(reader.pages[1].extract_text())"
   ]
  },
  {
   "cell_type": "markdown",
   "metadata": {},
   "source": [
    "### Implementation"
   ]
  },
  {
   "cell_type": "markdown",
   "metadata": {},
   "source": [
    "#### Function"
   ]
  },
  {
   "cell_type": "code",
   "execution_count": 63,
   "metadata": {},
   "outputs": [],
   "source": [
    "def extract_summary_fact(page, user_language):\n",
    "    messages = [\n",
    "    {\n",
    "        \"role\": \"user\",\n",
    "        \"content\": prompting.summary_prompt(page.extract_text(), user_language)\n",
    "    },\n",
    "    ]\n",
    "    completion = api.get_completions_gpt35(messages, 0)\n",
    "    \n",
    "    res_json = json.loads(completion.choices[0].message.content)\n",
    "\n",
    "    fact_list = [item['chunk'] for item in res_json['chunks']]\n",
    "    current_summary = res_json['summary']\n",
    "    return fact_list, current_summary"
   ]
  },
  {
   "cell_type": "code",
   "execution_count": 64,
   "metadata": {},
   "outputs": [],
   "source": [
    "def extract_summary_fact_rec(page, user_language):\n",
    "    messages = [\n",
    "    {\n",
    "        \"role\": \"user\",\n",
    "        \"content\": prompting.summary_prompt_rec(page, user_language)\n",
    "    },\n",
    "    ]\n",
    "    completion = api.get_completions_gpt35(messages, 0)\n",
    "    \n",
    "    res_json = json.loads(completion.choices[0].message.content)\n",
    "\n",
    "    fact_list = [item['chunk'] for item in res_json['chunks']]\n",
    "    current_summary = res_json['summary']\n",
    "    return fact_list, current_summary"
   ]
  },
  {
   "cell_type": "code",
   "execution_count": 65,
   "metadata": {},
   "outputs": [],
   "source": [
    "def execute_summary_prompt(pdf_path, resource_id, user_language):\n",
    "    insert_query = \"\"\"\n",
    "        INSERT INTO fact (context, fact, resource_id, embeddings, summary, number)\n",
    "        VALUES (%s, %s, %s, %s, %s, %s);\n",
    "    \"\"\"\n",
    "    page_num = 1\n",
    "    reader = PdfReader(pdf_path)\n",
    "    for page in reader.pages:\n",
    "        fact_list, cur_summary = extract_summary_fact(page, user_language)\n",
    "        for f1 in fact_list:\n",
    "            if prompt.count_tokens_tiktoken(f1) > 300:\n",
    "                new_facts, new_summary = extract_summary_fact_rec(f1, user_language)\n",
    "                for f2 in new_facts:\n",
    "                    embed_result = api.get_embeddings_ada(f2)\n",
    "                    cursor.execute(insert_query, (new_summary, f2, resource_id, embed_result, cur_summary, page_num))\n",
    "                continue\n",
    "            embed_result = api.get_embeddings_ada(f1)\n",
    "            cursor.execute(insert_query, (cur_summary, f1, resource_id, embed_result, cur_summary, page_num))\n",
    "        conn.commit()\n",
    "        page_num+=1"
   ]
  },
  {
   "cell_type": "markdown",
   "metadata": {},
   "source": [
    "#### Execute"
   ]
  },
  {
   "cell_type": "code",
   "execution_count": 66,
   "metadata": {},
   "outputs": [],
   "source": [
    "execute_summary_prompt(pdf_path, resource_id, user_language)"
   ]
  },
  {
   "cell_type": "markdown",
   "metadata": {},
   "source": [
    "# Validate"
   ]
  },
  {
   "cell_type": "code",
   "execution_count": 7,
   "metadata": {},
   "outputs": [],
   "source": [
    "update_query = \"\"\"\n",
    "UPDATE resource SET status = 'ready' WHERE id = %s; \n",
    "\"\"\"\n",
    "cursor.execute(update_query, (resource_id,))\n",
    "conn.commit()\n",
    "\n",
    "# result = cursor.fetchall()\n",
    "# for res in result:\n",
    "#     print(res)"
   ]
  },
  {
   "cell_type": "code",
   "execution_count": 67,
   "metadata": {},
   "outputs": [],
   "source": [
    "select_query = \"SELECT * FROM resource WHERE name ilike %s\""
   ]
  },
  {
   "cell_type": "code",
   "execution_count": 73,
   "metadata": {},
   "outputs": [
    {
     "name": "stdout",
     "output_type": "stream",
     "text": [
      "('ff450050-9dc3-4c93-8410-812a3ad1f7b2', 'CS Knowledges - Fragment', 'document', 'Dokumen ini berisi tentang kendala dan solusi pada aplikasi SenyuM Mobile, pembayaran Tabungan Emas, refund Brizzi, dan refund Online Acquiring.', 'indonesia', 'ready', datetime.datetime(2023, 12, 28, 5, 49, 1, 293868, tzinfo=datetime.timezone.utc), '603f9138-2723-4b28-bc56-c32190521e64', Decimal('100.00'), 'eb47f246-2b18-4f7b-b1fc-231d07fc7eec', 'asd', '', datetime.datetime(2023, 12, 28, 7, 34, 11, 375000, tzinfo=datetime.timezone.utc), True, '9e42a637-93ee-4a29-b883-129fceb90e4d', 'full text')\n",
      "('997af1a5-487c-4970-b7ff-cfea89b79f10', 'CS Knowledges - ParentChild', 'document', 'Dokumen ini berisi tentang kendala dan solusi pada aplikasi SenyuM Mobile, pembayaran Tabungan Emas, refund Brizzi, dan refund Online Acquiring.', 'indonesia', 'ready', datetime.datetime(2024, 1, 4, 0, 10, 32, 350983, tzinfo=datetime.timezone.utc), '603f9138-2723-4b28-bc56-c32190521e64', Decimal('100.00'), '1c892819-39a6-4f0b-88c3-3301d7b3dd98', 'asd', '', datetime.datetime(2024, 1, 4, 0, 11, 3, 523000, tzinfo=datetime.timezone.utc), True, '9e42a637-93ee-4a29-b883-129fceb90e4d', 'full text')\n",
      "('1b9e52f3-27ad-4a4e-9c18-c7cb25556c3f', 'CS Knowledges - Fact New', 'document', 'Halaman ini berisi informasi tentang kendala OTP, PIN, pembayaran Tabungan Emas, refund Tabungan Emas, refund Brizzi, dan refund Online Acquiring di SenyuM Mobile.', 'indonesia', 'ready', datetime.datetime(2023, 12, 28, 5, 48, 20, 687297, tzinfo=datetime.timezone.utc), '603f9138-2723-4b28-bc56-c32190521e64', Decimal('100.00'), '8ebc5bc2-53a5-47df-b70e-08a6919de968', 'Extract all facts in the page content.', '', datetime.datetime(2023, 12, 28, 9, 10, 13, 165000, tzinfo=datetime.timezone.utc), True, '9e42a637-93ee-4a29-b883-129fceb90e4d', 'full text')\n",
      "('071c687a-fd17-41f2-bdcf-98786b86413e', 'CS Knowledges - SentWindow', 'document', 'Dokumen ini berisi tentang kendala dan solusi pada aplikasi SenyuM Mobile, pembayaran Tabungan Emas, refund Brizzi, dan refund Online Acquiring.', 'indonesia', 'ready', datetime.datetime(2024, 1, 4, 0, 11, 38, 947419, tzinfo=datetime.timezone.utc), '603f9138-2723-4b28-bc56-c32190521e64', Decimal('100.00'), '9f70ba29-8117-41bd-aa1c-3f161b7a6538', 'asd', '', datetime.datetime(2024, 1, 4, 0, 12, 21, 781000, tzinfo=datetime.timezone.utc), True, '9e42a637-93ee-4a29-b883-129fceb90e4d', 'full text')\n",
      "('0575185a-7398-4e8b-a22e-96c2b3f8df9e', 'CS Knowledges - summary_fact', 'document', 'Dokumen ini berisi tentang kendala dan solusi pada aplikasi SenyuM Mobile, serta informasi tentang refund Tabungan Emas dan BRIZZI.', 'indonesia', 'ready', datetime.datetime(2024, 1, 4, 8, 10, 17, 179788, tzinfo=datetime.timezone.utc), '603f9138-2723-4b28-bc56-c32190521e64', Decimal('100.00'), 'b602d1e4-dd45-47c7-8353-7c500df0ca4d', 'extract fact', '', datetime.datetime(2024, 1, 4, 8, 10, 57, 691000, tzinfo=datetime.timezone.utc), True, 'd481329a-816e-492e-85d4-0909888534a7', 'full text')\n",
      "('f280c054-6a22-46bd-892b-b892bc412598', 'CS Knowledges - NonLLM', 'document', 'Halaman ini berisi informasi tentang kendala OTP, PIN, pembayaran Tabungan Emas, refund Tabungan Emas, refund Brizzi, dan refund Online Acquiring di SenyuM Mobile.', 'indonesia', 'ready', datetime.datetime(2023, 12, 28, 5, 51, 30, 187890, tzinfo=datetime.timezone.utc), '603f9138-2723-4b28-bc56-c32190521e64', Decimal('100.00'), '327850aa-e01a-400d-842d-ab1895202e20', 'Extract all facts in the page content.', '', datetime.datetime(2023, 12, 28, 9, 11, 28, 379000, tzinfo=datetime.timezone.utc), True, '9e42a637-93ee-4a29-b883-129fceb90e4d', 'full text')\n",
      "('3aac1223-05e1-4ae1-999e-b81ce6361b5a', 'CS Knowledges - Summary', 'document', 'Halaman ini berisi informasi tentang kendala OTP, PIN, pembayaran Tabungan Emas, refund Tabungan Emas, refund Brizzi, dan refund Online Acquiring di SenyuM Mobile.', 'indonesia', 'ready', datetime.datetime(2023, 12, 28, 5, 51, 59, 189048, tzinfo=datetime.timezone.utc), '603f9138-2723-4b28-bc56-c32190521e64', Decimal('100.00'), '40389d6f-53dc-4245-9bfc-72b22272ceed', 'Extract all facts in the page content.', '', datetime.datetime(2023, 12, 28, 9, 12, 24, 425000, tzinfo=datetime.timezone.utc), True, '9e42a637-93ee-4a29-b883-129fceb90e4d', 'full text')\n",
      "('0aa4f60a-4058-4e13-8d8a-88927c4f34a6', 'CS Knowledges - context_fact1', 'document', 'Dokumen ini berisi tentang kendala dan solusi pada aplikasi SenyuM Mobile, serta informasi tentang refund Tabungan Emas dan BRIZZI.', 'indonesia', 'ready', datetime.datetime(2024, 1, 4, 12, 20, 44, 498076, tzinfo=datetime.timezone.utc), '603f9138-2723-4b28-bc56-c32190521e64', Decimal('100.00'), '4e1d70c0-0517-443e-a17e-04108de51ba9', 'extract fact', '', datetime.datetime(2024, 1, 4, 12, 21, 27, 247000, tzinfo=datetime.timezone.utc), True, 'd481329a-816e-492e-85d4-0909888534a7', 'full text')\n"
     ]
    }
   ],
   "source": [
    "# select_query = \"\"\"\n",
    "# SELECT context,fact FROM fact WHERE resource_id = %s and number = 1; \n",
    "# \"\"\"\n",
    "cursor.execute(select_query, ('CS Knowledges -%',))\n",
    "test_resource_ids = []\n",
    "result = cursor.fetchall()\n",
    "for res in result:\n",
    "    print(res)\n",
    "    test_resource_ids.append(res[0])"
   ]
  },
  {
   "cell_type": "code",
   "execution_count": 71,
   "metadata": {},
   "outputs": [
    {
     "name": "stdout",
     "output_type": "stream",
     "text": [
      "['3216b95d-3b70-41c0-a24d-fc88d59f178a', '24001626-6628-4fda-83f6-0217de9e57f1', 'c05d60db-fb76-499a-a696-0ef068ba138e', '7373123d-886a-4922-b5d3-bed897bffae5', 'b7fad3fa-896c-41c1-a7ee-b706af6f7948', 'ae95f7fd-ffac-4ebb-94e8-5cac892989e9', 'f35f69dc-1889-4dde-b6dd-b6351ec98a93', '6ea45d90-e798-44b0-9022-79399c9d18ce']\n"
     ]
    }
   ],
   "source": [
    "print(test_resource_ids)"
   ]
  },
  {
   "cell_type": "code",
   "execution_count": 178,
   "metadata": {},
   "outputs": [],
   "source": [
    "conn.rollback()"
   ]
  }
 ],
 "metadata": {
  "kernelspec": {
   "display_name": "Python 3",
   "language": "python",
   "name": "python3"
  },
  "language_info": {
   "codemirror_mode": {
    "name": "ipython",
    "version": 3
   },
   "file_extension": ".py",
   "mimetype": "text/x-python",
   "name": "python",
   "nbconvert_exporter": "python",
   "pygments_lexer": "ipython3",
   "version": "3.11.7"
  }
 },
 "nbformat": 4,
 "nbformat_minor": 2
}
